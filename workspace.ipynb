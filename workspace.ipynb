{
 "cells": [
  {
   "metadata": {},
   "cell_type": "code",
   "source": [
    "\n",
    "\n",
    "import main\n",
    "from astropy.constants import G, M_sun, c\n",
    "from jax import config\n",
    "from jax.experimental.ode import odeint\n",
    "from main import calculate_force\n",
    "from old_config import file_path\n",
    "from zmq.utils.buffers import viewfromobject_r\n",
    "\n",
    "import utils\n",
    "from testing import vp_actual, sphinputs\n",
    "from utils import get_np_vecs\n",
    "\n",
    "config.update('jax_enable_x64', True)"
   ],
   "id": "459bde8da07fd7c5",
   "outputs": [],
   "execution_count": null
  },
  {
   "metadata": {},
   "cell_type": "code",
   "source": "# ((24 * np.pi**2 * X[:,2]**2 ) / (c.value**2 * X[:,3]**3 * (1-X[:,1]**2))) * 180 * 3600 * (3600 * 24* 365.25) * X[:,0]",
   "id": "85ecd0b2c1f1152",
   "outputs": [],
   "execution_count": null
  },
  {
   "metadata": {},
   "cell_type": "code",
   "source": [
    "# parameters, covariance = curve_fit(quadplusperiodic, X[:,0], y[:,0])\n",
    "# print(f'w: {parameters[1]} as/yr, Q: {parameters[2]} as/yr^2')"
   ],
   "id": "ea019d5e81d5709c",
   "outputs": [],
   "execution_count": null
  },
  {
   "metadata": {},
   "cell_type": "code",
   "source": [
    "# const = 24 * 180 * 3600 * 3600 * 24 * 365.25\n",
    "# const"
   ],
   "id": "569589674486202a",
   "outputs": [],
   "execution_count": null
  },
  {
   "metadata": {},
   "cell_type": "markdown",
   "source": "# MODEL",
   "id": "1d38fc859165158e"
  },
  {
   "metadata": {},
   "cell_type": "code",
   "source": [
    "from models import *\n",
    "import glob\n",
    "from lightning.pytorch import Trainer\n",
    "import config"
   ],
   "id": "5600fe5c5107fcb4",
   "outputs": [],
   "execution_count": null
  },
  {
   "metadata": {},
   "cell_type": "code",
   "source": [
    "reload(config)\n",
    "reload(utils)\n",
    "reload(models)"
   ],
   "id": "dcf996886d26e129",
   "outputs": [],
   "execution_count": null
  },
  {
   "metadata": {},
   "cell_type": "code",
   "source": "config.register('gnn')",
   "id": "e57f88a169ba779d",
   "outputs": [],
   "execution_count": null
  },
  {
   "metadata": {},
   "cell_type": "code",
   "source": "import joblib",
   "id": "245d848ba1aac8a2",
   "outputs": [],
   "execution_count": null
  },
  {
   "metadata": {},
   "cell_type": "code",
   "source": [
    "scaler = np.log10\n",
    "joblib.dump(scaler, 'test.pkl')"
   ],
   "id": "cde4753d496dc3db",
   "outputs": [],
   "execution_count": null
  },
  {
   "metadata": {},
   "cell_type": "code",
   "source": [
    "scal = joblib.load('test.pkl')\n",
    "scal.__doc__"
   ],
   "id": "4cca5339720b79b1",
   "outputs": [],
   "execution_count": null
  },
  {
   "metadata": {},
   "cell_type": "code",
   "source": "reload(utils)",
   "id": "8e5cb591745d2def",
   "outputs": [],
   "execution_count": null
  },
  {
   "metadata": {},
   "cell_type": "code",
   "source": [
    "scaler = utils.ScalerTransform(np.log10, lambda x: 10 ** x)\n",
    "scaler(1394568534.56)"
   ],
   "id": "abb92896d83ae09a",
   "outputs": [],
   "execution_count": null
  },
  {
   "metadata": {},
   "cell_type": "code",
   "source": [
    "data_module = utils.NNDataModule()\n",
    "model = GNN"
   ],
   "id": "e23f8b3866fe354e",
   "outputs": [],
   "execution_count": null
  },
  {
   "metadata": {},
   "cell_type": "code",
   "source": "config.retrieve('model')(lr=2)",
   "id": "65f6c8f135a61c11",
   "outputs": [],
   "execution_count": null
  },
  {
   "metadata": {},
   "cell_type": "code",
   "source": [
    "ckpt = glob.glob('*.ckpt')\n",
    "ckpt"
   ],
   "id": "aac5a33ef85ba62b",
   "outputs": [],
   "execution_count": null
  },
  {
   "metadata": {},
   "cell_type": "code",
   "source": [
    "model = InterpMLP.load_from_checkpoint(ckpt[0])\n",
    "data_module = NNDataModule()"
   ],
   "id": "d706f250891bcc4b",
   "outputs": [],
   "execution_count": null
  },
  {
   "metadata": {},
   "cell_type": "code",
   "source": [
    "trainer = Trainer(\n",
    "    accelerator='mps',\n",
    "    devices='auto',\n",
    "    benchmark=True,\n",
    ")\n",
    "trainer.test(model=model, datamodule=data_module)"
   ],
   "id": "c11938421ee9b24f",
   "outputs": [],
   "execution_count": null
  },
  {
   "metadata": {},
   "cell_type": "code",
   "source": [
    "import os\n",
    "os.path.getctime(ckpt[0])\n",
    "max(ckpt, key=os.path.getctime)"
   ],
   "id": "95911923a5b9299f",
   "outputs": [],
   "execution_count": null
  },
  {
   "metadata": {},
   "cell_type": "code",
   "source": "np.array([1, 2]).shape",
   "id": "34931b4293d3459e",
   "outputs": [],
   "execution_count": null
  },
  {
   "metadata": {},
   "cell_type": "code",
   "source": [
    "\n",
    "import jax.numpy as jnp\n",
    "from jax import config as jax_config\n",
    "\n",
    "jax_config.update('jax_enable_x64', True)"
   ],
   "id": "4cc309c1db899c44",
   "outputs": [],
   "execution_count": null
  },
  {
   "metadata": {},
   "cell_type": "code",
   "source": "",
   "id": "81c2339ca5b4f904",
   "outputs": [],
   "execution_count": null
  },
  {
   "metadata": {},
   "cell_type": "code",
   "source": [
    "from importlib import reload\n",
    "import utils\n",
    "reload(utils)"
   ],
   "id": "4e4bab0938e6c67",
   "outputs": [],
   "execution_count": null
  },
  {
   "metadata": {},
   "cell_type": "code",
   "source": [
    "from models import GNN\n",
    "ckpt = 'hopt/checkpoints/gnn_adamw_533.ckpt'\n",
    "model = GNN.load_from_checkpoint(ckpt)\n",
    "\n",
    "X, y = utils.analysis.gnn_test(model, ntrials=10000, suppress=True, SR=True)\n",
    "X"
   ],
   "id": "904deeb700be2c34",
   "outputs": [],
   "execution_count": null
  },
  {
   "metadata": {},
   "cell_type": "code",
   "source": [
    "import numpy as np\n",
    "import matplotlib.pyplot as plt\n",
    "\n",
    "def custom_loss(output, target, margin, lambda_):\n",
    "    distance = np.abs(output - target)\n",
    "    within_margin = distance <= margin\n",
    "    loss = np.zeros_like(output)\n",
    "\n",
    "    # Loss within margin\n",
    "    loss[within_margin] = (output[within_margin] - target) ** 2\n",
    "\n",
    "    # Loss outside margin\n",
    "    loss[~within_margin] = lambda_ * (distance[~within_margin] - margin) ** 2\n",
    "\n",
    "    return loss\n",
    "\n",
    "def mse_loss(output, target):\n",
    "    return (output - target) ** 2\n",
    "\n",
    "def l1_loss(output, target):\n",
    "    return np.abs(output - target)\n",
    "\n",
    "# Target value\n",
    "target_value = 0.42\n",
    "\n",
    "# Range of output values from -1 to 1\n",
    "outputs = np.linspace(-1, 1, 500)\n",
    "\n",
    "# Margin and lambda for custom loss\n",
    "margin = 0.3  # Adjust as needed\n",
    "lambda_ = 0.5  # Scaling factor for loss outside the margin\n",
    "\n",
    "# Compute custom loss\n",
    "custom_losses = custom_loss(outputs, target_value, margin, lambda_)\n",
    "\n",
    "# Compute MSE Loss\n",
    "mse_losses = mse_loss(outputs, target_value)\n",
    "\n",
    "# Compute L1 Loss\n",
    "l1_losses = l1_loss(outputs, target_value)\n",
    "\n",
    "# Plotting\n",
    "plt.figure(figsize=(12, 8))\n",
    "\n",
    "# Plot Custom Loss\n",
    "plt.plot(outputs, custom_losses, label='Custom Loss', color='red')\n",
    "\n",
    "# Plot MSE Loss\n",
    "plt.plot(outputs, mse_losses, label='MSE Loss', linestyle='--', color='blue')\n",
    "\n",
    "# Plot L1 Loss\n",
    "plt.plot(outputs, l1_losses, label='L1 Loss', linestyle='-.', color='green')\n",
    "\n",
    "# Add vertical line at target value\n",
    "plt.axvline(x=target_value, color='gray', linestyle=':', label='Target Value')\n",
    "\n",
    "# Indicate margin boundaries\n",
    "plt.axvline(x=target_value - margin, color='purple', linestyle=':', label='Margin Bounds')\n",
    "plt.axvline(x=target_value + margin, color='purple', linestyle=':')\n",
    "\n",
    "# Labels and Title\n",
    "plt.xlabel('Output Value')\n",
    "plt.ylabel('Loss')\n",
    "plt.title('Comparison of Loss Functions')\n",
    "\n",
    "# Legend\n",
    "plt.legend()\n",
    "\n",
    "# Grid\n",
    "plt.grid(True)\n",
    "\n",
    "# Show Plot\n",
    "plt.show()"
   ],
   "id": "9d3b1882026daaff",
   "outputs": [],
   "execution_count": null
  },
  {
   "metadata": {},
   "cell_type": "code",
   "source": [
    "import numpy as np\n",
    "import matplotlib.pyplot as plt\n",
    "\n",
    "\n",
    "# Exponential Loss Function\n",
    "def exponential_loss(output, target, k):\n",
    "    return np.exp(k * np.abs(output - target)) - 1\n",
    "\n",
    "# High-Order Polynomial Loss Function\n",
    "def high_order_loss(output, target, n):\n",
    "    return np.abs(output - target) ** n\n",
    "\n",
    "# Inverse Quadratic Loss Function\n",
    "def inverse_quadratic_loss(output, target, epsilon=1e-6):\n",
    "    return 1 / ((output - target) ** 2 + epsilon)\n",
    "\n",
    "# Logistic Loss Function\n",
    "def logistic_loss(output, target, k, m):\n",
    "    return 1 / (1 + np.exp(-k * (m - np.abs(output - target))))\n",
    "\n",
    "# Zero-One Approximation Loss Function\n",
    "def zero_one_approx_loss(output, target, sigma):\n",
    "    return 1 - np.exp(-((output - target) ** 2) / (2 * sigma ** 2))\n",
    "\n",
    "# Target value\n",
    "target_value = 0.42\n",
    "\n",
    "# Range of output values near the target value\n",
    "outputs = np.linspace(target_value - 1, target_value + 1, 500)\n",
    "\n",
    "# Parameters for loss functions\n",
    "k = 50          # Sharpness parameter for exponential and logistic loss\n",
    "n = 4           # Exponent for high-order loss\n",
    "epsilon = 1e-6  # Small constant for inverse quadratic loss to prevent division by zero\n",
    "sigma = .25     # Width parameter for zero-one approximation loss\n",
    "m = 0.0         # Threshold parameter for logistic loss\n",
    "\n",
    "# Compute loss values\n",
    "exp_losses = exponential_loss(outputs, target_value, k)\n",
    "high_order_losses = high_order_loss(outputs, target_value, n)\n",
    "inv_quad_losses = inverse_quadratic_loss(outputs, target_value, epsilon)\n",
    "logistic_losses = logistic_loss(outputs, target_value, k, m)\n",
    "zero_one_losses = zero_one_approx_loss(outputs, target_value, sigma)\n",
    "\n",
    "# Plotting\n",
    "plt.figure(figsize=(12, 8))\n",
    "\n",
    "# plt.plot(outputs, exp_losses, label='Exponential Loss', color='red')\n",
    "# plt.plot(outputs, high_order_losses, label=f'High-Order Loss (n={n})', color='blue')\n",
    "# plt.plot(outputs, inv_quad_losses, label='Inverse Quadratic Loss', color='green')\n",
    "# plt.plot(outputs, logistic_losses, label='Logistic Loss', color='purple')\n",
    "plt.plot(outputs, zero_one_losses, label='Zero-One Approximation Loss', color='orange')\n",
    "\n",
    "# Labels and Title\n",
    "plt.xlabel('Output Value')\n",
    "plt.ylabel('Loss')\n",
    "plt.title('Comparison of Sharp Penalty Loss Functions')\n",
    "\n",
    "# Add vertical line at target value\n",
    "plt.axvline(x=target_value, color='gray', linestyle=':', label='Target Value')\n",
    "\n",
    "# Legend\n",
    "plt.legend()\n",
    "\n",
    "# Grid\n",
    "plt.grid(True)\n",
    "\n",
    "# Show Plot\n",
    "plt.show()"
   ],
   "id": "8bba6885d54a51fb",
   "outputs": [],
   "execution_count": null
  },
  {
   "metadata": {},
   "cell_type": "code",
   "source": [
    "import matplotlib.pyplot as plt\n",
    "plt.plot(X[:, 0], y)"
   ],
   "id": "5ba55b982bc28cc5",
   "outputs": [],
   "execution_count": null
  },
  {
   "metadata": {},
   "cell_type": "markdown",
   "source": "# STUDIES",
   "id": "a868541f100382d3"
  },
  {
   "metadata": {
    "ExecuteTime": {
     "end_time": "2025-04-15T20:52:23.664326Z",
     "start_time": "2025-04-15T20:52:23.643772Z"
    }
   },
   "cell_type": "code",
   "source": [
    "import glob\n",
    "import optuna\n",
    "from utils import *\n",
    "from importlib import reload\n",
    "import optuna.visualization as vis\n",
    "import utils\n",
    "studies = glob.glob('*study*')\n",
    "studies"
   ],
   "id": "aa9d68f9f011d299",
   "outputs": [
    {
     "data": {
      "text/plain": [
       "['gnn_nadam_study.db']"
      ]
     },
     "execution_count": 122,
     "metadata": {},
     "output_type": "execute_result"
    }
   ],
   "execution_count": 122
  },
  {
   "metadata": {
    "ExecuteTime": {
     "end_time": "2025-04-15T20:52:24.323459Z",
     "start_time": "2025-04-15T20:52:24.319984Z"
    }
   },
   "cell_type": "code",
   "source": [
    "db = studies[0]\n",
    "study_name = db[:-3]\n",
    "storage_name = f\"sqlite:///{db}\"\n",
    "study_name, storage_name"
   ],
   "id": "4e89d7a5bfa7bc32",
   "outputs": [
    {
     "data": {
      "text/plain": [
       "('gnn_nadam_study', 'sqlite:///gnn_nadam_study.db')"
      ]
     },
     "execution_count": 123,
     "metadata": {},
     "output_type": "execute_result"
    }
   ],
   "execution_count": 123
  },
  {
   "metadata": {
    "ExecuteTime": {
     "end_time": "2025-04-15T20:52:24.701062Z",
     "start_time": "2025-04-15T20:52:24.692265Z"
    }
   },
   "cell_type": "code",
   "source": "reload(utils.optuna_helpers)",
   "id": "994baf00c32eeed3",
   "outputs": [
    {
     "data": {
      "text/plain": [
       "<module 'utils.optuna_helpers' from '/Users/blu3/PycharmProjects/orbit_ml/utils/optuna_helpers.py'>"
      ]
     },
     "execution_count": 124,
     "metadata": {},
     "output_type": "execute_result"
    }
   ],
   "execution_count": 124
  },
  {
   "metadata": {
    "ExecuteTime": {
     "end_time": "2025-04-15T21:48:05.229149Z",
     "start_time": "2025-04-15T21:47:56.963132Z"
    }
   },
   "cell_type": "code",
   "source": [
    "plotly.io.templates.default = 'simple_white'\n",
    "study = optuna.load_study(study_name=study_name, storage=storage_name)\n",
    "fig = vis.plot_param_importances(study)\n",
    "fig.show()"
   ],
   "id": "eb22f26557687d62",
   "outputs": [
    {
     "data": {
      "application/vnd.plotly.v1+json": {
       "data": [
        {
         "cliponaxis": false,
         "hovertemplate": [
          "weight_decay (FloatDistribution): 6.5038785672370055e-09<extra></extra>",
          "patience (IntDistribution): 5.112792499173225e-08<extra></extra>",
          "momentum_decay (FloatDistribution): 0.0006246847835440645<extra></extra>",
          "activation (CategoricalDistribution): 0.0007726097520529281<extra></extra>",
          "num_layers (IntDistribution): 0.0008681775719513355<extra></extra>",
          "se_reduction (CategoricalDistribution): 0.0011828210082899878<extra></extra>",
          "loss_name (CategoricalDistribution): 0.0029664735486361273<extra></extra>",
          "drop_rate (FloatDistribution): 0.004531194930036702<extra></extra>",
          "hidden_dim (CategoricalDistribution): 0.013065937389680319<extra></extra>",
          "lr (FloatDistribution): 0.023383979949811867<extra></extra>",
          "betas2 (FloatDistribution): 0.1988819554701765<extra></extra>",
          "betas1 (FloatDistribution): 0.2792532103620047<extra></extra>",
          "scheduler_factor (FloatDistribution): 0.4744688976020119<extra></extra>"
         ],
         "name": "Objective Value",
         "orientation": "h",
         "text": [
          "<0.01",
          "<0.01",
          "<0.01",
          "<0.01",
          "<0.01",
          "<0.01",
          "<0.01",
          "<0.01",
          "0.01",
          "0.02",
          "0.20",
          "0.28",
          "0.47"
         ],
         "textposition": "outside",
         "x": [
          6.5038785672370055E-9,
          5.112792499173225E-8,
          6.246847835440645E-4,
          7.726097520529281E-4,
          8.681775719513355E-4,
          0.0011828210082899878,
          0.0029664735486361273,
          0.004531194930036702,
          0.013065937389680319,
          0.023383979949811867,
          0.1988819554701765,
          0.2792532103620047,
          0.4744688976020119
         ],
         "y": [
          "weight_decay",
          "patience",
          "momentum_decay",
          "activation",
          "num_layers",
          "se_reduction",
          "loss_name",
          "drop_rate",
          "hidden_dim",
          "lr",
          "betas2",
          "betas1",
          "scheduler_factor"
         ],
         "type": "bar"
        }
       ],
       "layout": {
        "title": {
         "text": "Hyperparameter Importances"
        },
        "xaxis": {
         "title": {
          "text": "Hyperparameter Importance"
         }
        },
        "yaxis": {
         "title": {
          "text": "Hyperparameter"
         }
        },
        "template": {
         "data": {
          "histogram2dcontour": [
           {
            "type": "histogram2dcontour",
            "colorbar": {
             "outlinewidth": 1,
             "tickcolor": "rgb(36,36,36)",
             "ticks": "outside"
            },
            "colorscale": [
             [
              0.0,
              "#440154"
             ],
             [
              0.1111111111111111,
              "#482878"
             ],
             [
              0.2222222222222222,
              "#3e4989"
             ],
             [
              0.3333333333333333,
              "#31688e"
             ],
             [
              0.4444444444444444,
              "#26828e"
             ],
             [
              0.5555555555555556,
              "#1f9e89"
             ],
             [
              0.6666666666666666,
              "#35b779"
             ],
             [
              0.7777777777777778,
              "#6ece58"
             ],
             [
              0.8888888888888888,
              "#b5de2b"
             ],
             [
              1.0,
              "#fde725"
             ]
            ]
           }
          ],
          "choropleth": [
           {
            "type": "choropleth",
            "colorbar": {
             "outlinewidth": 1,
             "tickcolor": "rgb(36,36,36)",
             "ticks": "outside"
            }
           }
          ],
          "histogram2d": [
           {
            "type": "histogram2d",
            "colorbar": {
             "outlinewidth": 1,
             "tickcolor": "rgb(36,36,36)",
             "ticks": "outside"
            },
            "colorscale": [
             [
              0.0,
              "#440154"
             ],
             [
              0.1111111111111111,
              "#482878"
             ],
             [
              0.2222222222222222,
              "#3e4989"
             ],
             [
              0.3333333333333333,
              "#31688e"
             ],
             [
              0.4444444444444444,
              "#26828e"
             ],
             [
              0.5555555555555556,
              "#1f9e89"
             ],
             [
              0.6666666666666666,
              "#35b779"
             ],
             [
              0.7777777777777778,
              "#6ece58"
             ],
             [
              0.8888888888888888,
              "#b5de2b"
             ],
             [
              1.0,
              "#fde725"
             ]
            ]
           }
          ],
          "heatmap": [
           {
            "type": "heatmap",
            "colorbar": {
             "outlinewidth": 1,
             "tickcolor": "rgb(36,36,36)",
             "ticks": "outside"
            },
            "colorscale": [
             [
              0.0,
              "#440154"
             ],
             [
              0.1111111111111111,
              "#482878"
             ],
             [
              0.2222222222222222,
              "#3e4989"
             ],
             [
              0.3333333333333333,
              "#31688e"
             ],
             [
              0.4444444444444444,
              "#26828e"
             ],
             [
              0.5555555555555556,
              "#1f9e89"
             ],
             [
              0.6666666666666666,
              "#35b779"
             ],
             [
              0.7777777777777778,
              "#6ece58"
             ],
             [
              0.8888888888888888,
              "#b5de2b"
             ],
             [
              1.0,
              "#fde725"
             ]
            ]
           }
          ],
          "heatmapgl": [
           {
            "type": "heatmapgl",
            "colorbar": {
             "outlinewidth": 1,
             "tickcolor": "rgb(36,36,36)",
             "ticks": "outside"
            },
            "colorscale": [
             [
              0.0,
              "#440154"
             ],
             [
              0.1111111111111111,
              "#482878"
             ],
             [
              0.2222222222222222,
              "#3e4989"
             ],
             [
              0.3333333333333333,
              "#31688e"
             ],
             [
              0.4444444444444444,
              "#26828e"
             ],
             [
              0.5555555555555556,
              "#1f9e89"
             ],
             [
              0.6666666666666666,
              "#35b779"
             ],
             [
              0.7777777777777778,
              "#6ece58"
             ],
             [
              0.8888888888888888,
              "#b5de2b"
             ],
             [
              1.0,
              "#fde725"
             ]
            ]
           }
          ],
          "contourcarpet": [
           {
            "type": "contourcarpet",
            "colorbar": {
             "outlinewidth": 1,
             "tickcolor": "rgb(36,36,36)",
             "ticks": "outside"
            }
           }
          ],
          "contour": [
           {
            "type": "contour",
            "colorbar": {
             "outlinewidth": 1,
             "tickcolor": "rgb(36,36,36)",
             "ticks": "outside"
            },
            "colorscale": [
             [
              0.0,
              "#440154"
             ],
             [
              0.1111111111111111,
              "#482878"
             ],
             [
              0.2222222222222222,
              "#3e4989"
             ],
             [
              0.3333333333333333,
              "#31688e"
             ],
             [
              0.4444444444444444,
              "#26828e"
             ],
             [
              0.5555555555555556,
              "#1f9e89"
             ],
             [
              0.6666666666666666,
              "#35b779"
             ],
             [
              0.7777777777777778,
              "#6ece58"
             ],
             [
              0.8888888888888888,
              "#b5de2b"
             ],
             [
              1.0,
              "#fde725"
             ]
            ]
           }
          ],
          "surface": [
           {
            "type": "surface",
            "colorbar": {
             "outlinewidth": 1,
             "tickcolor": "rgb(36,36,36)",
             "ticks": "outside"
            },
            "colorscale": [
             [
              0.0,
              "#440154"
             ],
             [
              0.1111111111111111,
              "#482878"
             ],
             [
              0.2222222222222222,
              "#3e4989"
             ],
             [
              0.3333333333333333,
              "#31688e"
             ],
             [
              0.4444444444444444,
              "#26828e"
             ],
             [
              0.5555555555555556,
              "#1f9e89"
             ],
             [
              0.6666666666666666,
              "#35b779"
             ],
             [
              0.7777777777777778,
              "#6ece58"
             ],
             [
              0.8888888888888888,
              "#b5de2b"
             ],
             [
              1.0,
              "#fde725"
             ]
            ]
           }
          ],
          "mesh3d": [
           {
            "type": "mesh3d",
            "colorbar": {
             "outlinewidth": 1,
             "tickcolor": "rgb(36,36,36)",
             "ticks": "outside"
            }
           }
          ],
          "scatter": [
           {
            "fillpattern": {
             "fillmode": "overlay",
             "size": 10,
             "solidity": 0.2
            },
            "type": "scatter"
           }
          ],
          "parcoords": [
           {
            "type": "parcoords",
            "line": {
             "colorbar": {
              "outlinewidth": 1,
              "tickcolor": "rgb(36,36,36)",
              "ticks": "outside"
             }
            }
           }
          ],
          "scatterpolargl": [
           {
            "type": "scatterpolargl",
            "marker": {
             "colorbar": {
              "outlinewidth": 1,
              "tickcolor": "rgb(36,36,36)",
              "ticks": "outside"
             }
            }
           }
          ],
          "bar": [
           {
            "error_x": {
             "color": "rgb(36,36,36)"
            },
            "error_y": {
             "color": "rgb(36,36,36)"
            },
            "marker": {
             "line": {
              "color": "white",
              "width": 0.5
             },
             "pattern": {
              "fillmode": "overlay",
              "size": 10,
              "solidity": 0.2
             }
            },
            "type": "bar"
           }
          ],
          "scattergeo": [
           {
            "type": "scattergeo",
            "marker": {
             "colorbar": {
              "outlinewidth": 1,
              "tickcolor": "rgb(36,36,36)",
              "ticks": "outside"
             }
            }
           }
          ],
          "scatterpolar": [
           {
            "type": "scatterpolar",
            "marker": {
             "colorbar": {
              "outlinewidth": 1,
              "tickcolor": "rgb(36,36,36)",
              "ticks": "outside"
             }
            }
           }
          ],
          "histogram": [
           {
            "marker": {
             "line": {
              "color": "white",
              "width": 0.6
             }
            },
            "type": "histogram"
           }
          ],
          "scattergl": [
           {
            "type": "scattergl",
            "marker": {
             "colorbar": {
              "outlinewidth": 1,
              "tickcolor": "rgb(36,36,36)",
              "ticks": "outside"
             }
            }
           }
          ],
          "scatter3d": [
           {
            "type": "scatter3d",
            "line": {
             "colorbar": {
              "outlinewidth": 1,
              "tickcolor": "rgb(36,36,36)",
              "ticks": "outside"
             }
            },
            "marker": {
             "colorbar": {
              "outlinewidth": 1,
              "tickcolor": "rgb(36,36,36)",
              "ticks": "outside"
             }
            }
           }
          ],
          "scattermapbox": [
           {
            "type": "scattermapbox",
            "marker": {
             "colorbar": {
              "outlinewidth": 1,
              "tickcolor": "rgb(36,36,36)",
              "ticks": "outside"
             }
            }
           }
          ],
          "scatterternary": [
           {
            "type": "scatterternary",
            "marker": {
             "colorbar": {
              "outlinewidth": 1,
              "tickcolor": "rgb(36,36,36)",
              "ticks": "outside"
             }
            }
           }
          ],
          "scattercarpet": [
           {
            "type": "scattercarpet",
            "marker": {
             "colorbar": {
              "outlinewidth": 1,
              "tickcolor": "rgb(36,36,36)",
              "ticks": "outside"
             }
            }
           }
          ],
          "carpet": [
           {
            "aaxis": {
             "endlinecolor": "rgb(36,36,36)",
             "gridcolor": "white",
             "linecolor": "white",
             "minorgridcolor": "white",
             "startlinecolor": "rgb(36,36,36)"
            },
            "baxis": {
             "endlinecolor": "rgb(36,36,36)",
             "gridcolor": "white",
             "linecolor": "white",
             "minorgridcolor": "white",
             "startlinecolor": "rgb(36,36,36)"
            },
            "type": "carpet"
           }
          ],
          "table": [
           {
            "cells": {
             "fill": {
              "color": "rgb(237,237,237)"
             },
             "line": {
              "color": "white"
             }
            },
            "header": {
             "fill": {
              "color": "rgb(217,217,217)"
             },
             "line": {
              "color": "white"
             }
            },
            "type": "table"
           }
          ],
          "barpolar": [
           {
            "marker": {
             "line": {
              "color": "white",
              "width": 0.5
             },
             "pattern": {
              "fillmode": "overlay",
              "size": 10,
              "solidity": 0.2
             }
            },
            "type": "barpolar"
           }
          ],
          "pie": [
           {
            "automargin": true,
            "type": "pie"
           }
          ]
         },
         "layout": {
          "autotypenumbers": "strict",
          "colorway": [
           "#1F77B4",
           "#FF7F0E",
           "#2CA02C",
           "#D62728",
           "#9467BD",
           "#8C564B",
           "#E377C2",
           "#7F7F7F",
           "#BCBD22",
           "#17BECF"
          ],
          "font": {
           "color": "rgb(36,36,36)"
          },
          "hovermode": "closest",
          "hoverlabel": {
           "align": "left"
          },
          "paper_bgcolor": "white",
          "plot_bgcolor": "white",
          "polar": {
           "bgcolor": "white",
           "angularaxis": {
            "gridcolor": "rgb(232,232,232)",
            "linecolor": "rgb(36,36,36)",
            "showgrid": false,
            "showline": true,
            "ticks": "outside"
           },
           "radialaxis": {
            "gridcolor": "rgb(232,232,232)",
            "linecolor": "rgb(36,36,36)",
            "showgrid": false,
            "showline": true,
            "ticks": "outside"
           }
          },
          "ternary": {
           "bgcolor": "white",
           "aaxis": {
            "gridcolor": "rgb(232,232,232)",
            "linecolor": "rgb(36,36,36)",
            "showgrid": false,
            "showline": true,
            "ticks": "outside"
           },
           "baxis": {
            "gridcolor": "rgb(232,232,232)",
            "linecolor": "rgb(36,36,36)",
            "showgrid": false,
            "showline": true,
            "ticks": "outside"
           },
           "caxis": {
            "gridcolor": "rgb(232,232,232)",
            "linecolor": "rgb(36,36,36)",
            "showgrid": false,
            "showline": true,
            "ticks": "outside"
           }
          },
          "coloraxis": {
           "colorbar": {
            "outlinewidth": 1,
            "tickcolor": "rgb(36,36,36)",
            "ticks": "outside"
           }
          },
          "colorscale": {
           "sequential": [
            [
             0.0,
             "#440154"
            ],
            [
             0.1111111111111111,
             "#482878"
            ],
            [
             0.2222222222222222,
             "#3e4989"
            ],
            [
             0.3333333333333333,
             "#31688e"
            ],
            [
             0.4444444444444444,
             "#26828e"
            ],
            [
             0.5555555555555556,
             "#1f9e89"
            ],
            [
             0.6666666666666666,
             "#35b779"
            ],
            [
             0.7777777777777778,
             "#6ece58"
            ],
            [
             0.8888888888888888,
             "#b5de2b"
            ],
            [
             1.0,
             "#fde725"
            ]
           ],
           "sequentialminus": [
            [
             0.0,
             "#440154"
            ],
            [
             0.1111111111111111,
             "#482878"
            ],
            [
             0.2222222222222222,
             "#3e4989"
            ],
            [
             0.3333333333333333,
             "#31688e"
            ],
            [
             0.4444444444444444,
             "#26828e"
            ],
            [
             0.5555555555555556,
             "#1f9e89"
            ],
            [
             0.6666666666666666,
             "#35b779"
            ],
            [
             0.7777777777777778,
             "#6ece58"
            ],
            [
             0.8888888888888888,
             "#b5de2b"
            ],
            [
             1.0,
             "#fde725"
            ]
           ],
           "diverging": [
            [
             0.0,
             "rgb(103,0,31)"
            ],
            [
             0.1,
             "rgb(178,24,43)"
            ],
            [
             0.2,
             "rgb(214,96,77)"
            ],
            [
             0.3,
             "rgb(244,165,130)"
            ],
            [
             0.4,
             "rgb(253,219,199)"
            ],
            [
             0.5,
             "rgb(247,247,247)"
            ],
            [
             0.6,
             "rgb(209,229,240)"
            ],
            [
             0.7,
             "rgb(146,197,222)"
            ],
            [
             0.8,
             "rgb(67,147,195)"
            ],
            [
             0.9,
             "rgb(33,102,172)"
            ],
            [
             1.0,
             "rgb(5,48,97)"
            ]
           ]
          },
          "xaxis": {
           "gridcolor": "rgb(232,232,232)",
           "linecolor": "rgb(36,36,36)",
           "showgrid": false,
           "showline": true,
           "ticks": "outside",
           "title": {
            "standoff": 15
           },
           "zerolinecolor": "rgb(36,36,36)",
           "automargin": true,
           "zeroline": false
          },
          "yaxis": {
           "gridcolor": "rgb(232,232,232)",
           "linecolor": "rgb(36,36,36)",
           "showgrid": false,
           "showline": true,
           "ticks": "outside",
           "title": {
            "standoff": 15
           },
           "zerolinecolor": "rgb(36,36,36)",
           "automargin": true,
           "zeroline": false
          },
          "scene": {
           "xaxis": {
            "backgroundcolor": "white",
            "gridcolor": "rgb(232,232,232)",
            "linecolor": "rgb(36,36,36)",
            "showbackground": true,
            "showgrid": false,
            "showline": true,
            "ticks": "outside",
            "zerolinecolor": "rgb(36,36,36)",
            "gridwidth": 2,
            "zeroline": false
           },
           "yaxis": {
            "backgroundcolor": "white",
            "gridcolor": "rgb(232,232,232)",
            "linecolor": "rgb(36,36,36)",
            "showbackground": true,
            "showgrid": false,
            "showline": true,
            "ticks": "outside",
            "zerolinecolor": "rgb(36,36,36)",
            "gridwidth": 2,
            "zeroline": false
           },
           "zaxis": {
            "backgroundcolor": "white",
            "gridcolor": "rgb(232,232,232)",
            "linecolor": "rgb(36,36,36)",
            "showbackground": true,
            "showgrid": false,
            "showline": true,
            "ticks": "outside",
            "zerolinecolor": "rgb(36,36,36)",
            "gridwidth": 2,
            "zeroline": false
           }
          },
          "shapedefaults": {
           "fillcolor": "black",
           "line": {
            "width": 0
           },
           "opacity": 0.3
          },
          "annotationdefaults": {
           "arrowhead": 0,
           "arrowwidth": 1
          },
          "geo": {
           "bgcolor": "white",
           "landcolor": "white",
           "subunitcolor": "white",
           "showland": true,
           "showlakes": true,
           "lakecolor": "white"
          },
          "title": {
           "x": 0.05
          },
          "mapbox": {
           "style": "light"
          }
         }
        }
       },
       "config": {
        "plotlyServerURL": "https://plot.ly"
       }
      },
      "text/html": [
       "<div>                            <div id=\"3d1cedbc-28b4-4728-a190-447587065392\" class=\"plotly-graph-div\" style=\"height:525px; width:100%;\"></div>            <script type=\"text/javascript\">                require([\"plotly\"], function(Plotly) {                    window.PLOTLYENV=window.PLOTLYENV || {};                                    if (document.getElementById(\"3d1cedbc-28b4-4728-a190-447587065392\")) {                    Plotly.newPlot(                        \"3d1cedbc-28b4-4728-a190-447587065392\",                        [{\"cliponaxis\":false,\"hovertemplate\":[\"weight_decay (FloatDistribution): 6.5038785672370055e-09\\u003cextra\\u003e\\u003c\\u002fextra\\u003e\",\"patience (IntDistribution): 5.112792499173225e-08\\u003cextra\\u003e\\u003c\\u002fextra\\u003e\",\"momentum_decay (FloatDistribution): 0.0006246847835440645\\u003cextra\\u003e\\u003c\\u002fextra\\u003e\",\"activation (CategoricalDistribution): 0.0007726097520529281\\u003cextra\\u003e\\u003c\\u002fextra\\u003e\",\"num_layers (IntDistribution): 0.0008681775719513355\\u003cextra\\u003e\\u003c\\u002fextra\\u003e\",\"se_reduction (CategoricalDistribution): 0.0011828210082899878\\u003cextra\\u003e\\u003c\\u002fextra\\u003e\",\"loss_name (CategoricalDistribution): 0.0029664735486361273\\u003cextra\\u003e\\u003c\\u002fextra\\u003e\",\"drop_rate (FloatDistribution): 0.004531194930036702\\u003cextra\\u003e\\u003c\\u002fextra\\u003e\",\"hidden_dim (CategoricalDistribution): 0.013065937389680319\\u003cextra\\u003e\\u003c\\u002fextra\\u003e\",\"lr (FloatDistribution): 0.023383979949811867\\u003cextra\\u003e\\u003c\\u002fextra\\u003e\",\"betas2 (FloatDistribution): 0.1988819554701765\\u003cextra\\u003e\\u003c\\u002fextra\\u003e\",\"betas1 (FloatDistribution): 0.2792532103620047\\u003cextra\\u003e\\u003c\\u002fextra\\u003e\",\"scheduler_factor (FloatDistribution): 0.4744688976020119\\u003cextra\\u003e\\u003c\\u002fextra\\u003e\"],\"name\":\"Objective Value\",\"orientation\":\"h\",\"text\":[\"\\u003c0.01\",\"\\u003c0.01\",\"\\u003c0.01\",\"\\u003c0.01\",\"\\u003c0.01\",\"\\u003c0.01\",\"\\u003c0.01\",\"\\u003c0.01\",\"0.01\",\"0.02\",\"0.20\",\"0.28\",\"0.47\"],\"textposition\":\"outside\",\"x\":[6.5038785672370055e-09,5.112792499173225e-08,0.0006246847835440645,0.0007726097520529281,0.0008681775719513355,0.0011828210082899878,0.0029664735486361273,0.004531194930036702,0.013065937389680319,0.023383979949811867,0.1988819554701765,0.2792532103620047,0.4744688976020119],\"y\":[\"weight_decay\",\"patience\",\"momentum_decay\",\"activation\",\"num_layers\",\"se_reduction\",\"loss_name\",\"drop_rate\",\"hidden_dim\",\"lr\",\"betas2\",\"betas1\",\"scheduler_factor\"],\"type\":\"bar\"}],                        {\"title\":{\"text\":\"Hyperparameter Importances\"},\"xaxis\":{\"title\":{\"text\":\"Hyperparameter Importance\"}},\"yaxis\":{\"title\":{\"text\":\"Hyperparameter\"}},\"template\":{\"data\":{\"histogram2dcontour\":[{\"type\":\"histogram2dcontour\",\"colorbar\":{\"outlinewidth\":1,\"tickcolor\":\"rgb(36,36,36)\",\"ticks\":\"outside\"},\"colorscale\":[[0.0,\"#440154\"],[0.1111111111111111,\"#482878\"],[0.2222222222222222,\"#3e4989\"],[0.3333333333333333,\"#31688e\"],[0.4444444444444444,\"#26828e\"],[0.5555555555555556,\"#1f9e89\"],[0.6666666666666666,\"#35b779\"],[0.7777777777777778,\"#6ece58\"],[0.8888888888888888,\"#b5de2b\"],[1.0,\"#fde725\"]]}],\"choropleth\":[{\"type\":\"choropleth\",\"colorbar\":{\"outlinewidth\":1,\"tickcolor\":\"rgb(36,36,36)\",\"ticks\":\"outside\"}}],\"histogram2d\":[{\"type\":\"histogram2d\",\"colorbar\":{\"outlinewidth\":1,\"tickcolor\":\"rgb(36,36,36)\",\"ticks\":\"outside\"},\"colorscale\":[[0.0,\"#440154\"],[0.1111111111111111,\"#482878\"],[0.2222222222222222,\"#3e4989\"],[0.3333333333333333,\"#31688e\"],[0.4444444444444444,\"#26828e\"],[0.5555555555555556,\"#1f9e89\"],[0.6666666666666666,\"#35b779\"],[0.7777777777777778,\"#6ece58\"],[0.8888888888888888,\"#b5de2b\"],[1.0,\"#fde725\"]]}],\"heatmap\":[{\"type\":\"heatmap\",\"colorbar\":{\"outlinewidth\":1,\"tickcolor\":\"rgb(36,36,36)\",\"ticks\":\"outside\"},\"colorscale\":[[0.0,\"#440154\"],[0.1111111111111111,\"#482878\"],[0.2222222222222222,\"#3e4989\"],[0.3333333333333333,\"#31688e\"],[0.4444444444444444,\"#26828e\"],[0.5555555555555556,\"#1f9e89\"],[0.6666666666666666,\"#35b779\"],[0.7777777777777778,\"#6ece58\"],[0.8888888888888888,\"#b5de2b\"],[1.0,\"#fde725\"]]}],\"heatmapgl\":[{\"type\":\"heatmapgl\",\"colorbar\":{\"outlinewidth\":1,\"tickcolor\":\"rgb(36,36,36)\",\"ticks\":\"outside\"},\"colorscale\":[[0.0,\"#440154\"],[0.1111111111111111,\"#482878\"],[0.2222222222222222,\"#3e4989\"],[0.3333333333333333,\"#31688e\"],[0.4444444444444444,\"#26828e\"],[0.5555555555555556,\"#1f9e89\"],[0.6666666666666666,\"#35b779\"],[0.7777777777777778,\"#6ece58\"],[0.8888888888888888,\"#b5de2b\"],[1.0,\"#fde725\"]]}],\"contourcarpet\":[{\"type\":\"contourcarpet\",\"colorbar\":{\"outlinewidth\":1,\"tickcolor\":\"rgb(36,36,36)\",\"ticks\":\"outside\"}}],\"contour\":[{\"type\":\"contour\",\"colorbar\":{\"outlinewidth\":1,\"tickcolor\":\"rgb(36,36,36)\",\"ticks\":\"outside\"},\"colorscale\":[[0.0,\"#440154\"],[0.1111111111111111,\"#482878\"],[0.2222222222222222,\"#3e4989\"],[0.3333333333333333,\"#31688e\"],[0.4444444444444444,\"#26828e\"],[0.5555555555555556,\"#1f9e89\"],[0.6666666666666666,\"#35b779\"],[0.7777777777777778,\"#6ece58\"],[0.8888888888888888,\"#b5de2b\"],[1.0,\"#fde725\"]]}],\"surface\":[{\"type\":\"surface\",\"colorbar\":{\"outlinewidth\":1,\"tickcolor\":\"rgb(36,36,36)\",\"ticks\":\"outside\"},\"colorscale\":[[0.0,\"#440154\"],[0.1111111111111111,\"#482878\"],[0.2222222222222222,\"#3e4989\"],[0.3333333333333333,\"#31688e\"],[0.4444444444444444,\"#26828e\"],[0.5555555555555556,\"#1f9e89\"],[0.6666666666666666,\"#35b779\"],[0.7777777777777778,\"#6ece58\"],[0.8888888888888888,\"#b5de2b\"],[1.0,\"#fde725\"]]}],\"mesh3d\":[{\"type\":\"mesh3d\",\"colorbar\":{\"outlinewidth\":1,\"tickcolor\":\"rgb(36,36,36)\",\"ticks\":\"outside\"}}],\"scatter\":[{\"fillpattern\":{\"fillmode\":\"overlay\",\"size\":10,\"solidity\":0.2},\"type\":\"scatter\"}],\"parcoords\":[{\"type\":\"parcoords\",\"line\":{\"colorbar\":{\"outlinewidth\":1,\"tickcolor\":\"rgb(36,36,36)\",\"ticks\":\"outside\"}}}],\"scatterpolargl\":[{\"type\":\"scatterpolargl\",\"marker\":{\"colorbar\":{\"outlinewidth\":1,\"tickcolor\":\"rgb(36,36,36)\",\"ticks\":\"outside\"}}}],\"bar\":[{\"error_x\":{\"color\":\"rgb(36,36,36)\"},\"error_y\":{\"color\":\"rgb(36,36,36)\"},\"marker\":{\"line\":{\"color\":\"white\",\"width\":0.5},\"pattern\":{\"fillmode\":\"overlay\",\"size\":10,\"solidity\":0.2}},\"type\":\"bar\"}],\"scattergeo\":[{\"type\":\"scattergeo\",\"marker\":{\"colorbar\":{\"outlinewidth\":1,\"tickcolor\":\"rgb(36,36,36)\",\"ticks\":\"outside\"}}}],\"scatterpolar\":[{\"type\":\"scatterpolar\",\"marker\":{\"colorbar\":{\"outlinewidth\":1,\"tickcolor\":\"rgb(36,36,36)\",\"ticks\":\"outside\"}}}],\"histogram\":[{\"marker\":{\"line\":{\"color\":\"white\",\"width\":0.6}},\"type\":\"histogram\"}],\"scattergl\":[{\"type\":\"scattergl\",\"marker\":{\"colorbar\":{\"outlinewidth\":1,\"tickcolor\":\"rgb(36,36,36)\",\"ticks\":\"outside\"}}}],\"scatter3d\":[{\"type\":\"scatter3d\",\"line\":{\"colorbar\":{\"outlinewidth\":1,\"tickcolor\":\"rgb(36,36,36)\",\"ticks\":\"outside\"}},\"marker\":{\"colorbar\":{\"outlinewidth\":1,\"tickcolor\":\"rgb(36,36,36)\",\"ticks\":\"outside\"}}}],\"scattermapbox\":[{\"type\":\"scattermapbox\",\"marker\":{\"colorbar\":{\"outlinewidth\":1,\"tickcolor\":\"rgb(36,36,36)\",\"ticks\":\"outside\"}}}],\"scatterternary\":[{\"type\":\"scatterternary\",\"marker\":{\"colorbar\":{\"outlinewidth\":1,\"tickcolor\":\"rgb(36,36,36)\",\"ticks\":\"outside\"}}}],\"scattercarpet\":[{\"type\":\"scattercarpet\",\"marker\":{\"colorbar\":{\"outlinewidth\":1,\"tickcolor\":\"rgb(36,36,36)\",\"ticks\":\"outside\"}}}],\"carpet\":[{\"aaxis\":{\"endlinecolor\":\"rgb(36,36,36)\",\"gridcolor\":\"white\",\"linecolor\":\"white\",\"minorgridcolor\":\"white\",\"startlinecolor\":\"rgb(36,36,36)\"},\"baxis\":{\"endlinecolor\":\"rgb(36,36,36)\",\"gridcolor\":\"white\",\"linecolor\":\"white\",\"minorgridcolor\":\"white\",\"startlinecolor\":\"rgb(36,36,36)\"},\"type\":\"carpet\"}],\"table\":[{\"cells\":{\"fill\":{\"color\":\"rgb(237,237,237)\"},\"line\":{\"color\":\"white\"}},\"header\":{\"fill\":{\"color\":\"rgb(217,217,217)\"},\"line\":{\"color\":\"white\"}},\"type\":\"table\"}],\"barpolar\":[{\"marker\":{\"line\":{\"color\":\"white\",\"width\":0.5},\"pattern\":{\"fillmode\":\"overlay\",\"size\":10,\"solidity\":0.2}},\"type\":\"barpolar\"}],\"pie\":[{\"automargin\":true,\"type\":\"pie\"}]},\"layout\":{\"autotypenumbers\":\"strict\",\"colorway\":[\"#1F77B4\",\"#FF7F0E\",\"#2CA02C\",\"#D62728\",\"#9467BD\",\"#8C564B\",\"#E377C2\",\"#7F7F7F\",\"#BCBD22\",\"#17BECF\"],\"font\":{\"color\":\"rgb(36,36,36)\"},\"hovermode\":\"closest\",\"hoverlabel\":{\"align\":\"left\"},\"paper_bgcolor\":\"white\",\"plot_bgcolor\":\"white\",\"polar\":{\"bgcolor\":\"white\",\"angularaxis\":{\"gridcolor\":\"rgb(232,232,232)\",\"linecolor\":\"rgb(36,36,36)\",\"showgrid\":false,\"showline\":true,\"ticks\":\"outside\"},\"radialaxis\":{\"gridcolor\":\"rgb(232,232,232)\",\"linecolor\":\"rgb(36,36,36)\",\"showgrid\":false,\"showline\":true,\"ticks\":\"outside\"}},\"ternary\":{\"bgcolor\":\"white\",\"aaxis\":{\"gridcolor\":\"rgb(232,232,232)\",\"linecolor\":\"rgb(36,36,36)\",\"showgrid\":false,\"showline\":true,\"ticks\":\"outside\"},\"baxis\":{\"gridcolor\":\"rgb(232,232,232)\",\"linecolor\":\"rgb(36,36,36)\",\"showgrid\":false,\"showline\":true,\"ticks\":\"outside\"},\"caxis\":{\"gridcolor\":\"rgb(232,232,232)\",\"linecolor\":\"rgb(36,36,36)\",\"showgrid\":false,\"showline\":true,\"ticks\":\"outside\"}},\"coloraxis\":{\"colorbar\":{\"outlinewidth\":1,\"tickcolor\":\"rgb(36,36,36)\",\"ticks\":\"outside\"}},\"colorscale\":{\"sequential\":[[0.0,\"#440154\"],[0.1111111111111111,\"#482878\"],[0.2222222222222222,\"#3e4989\"],[0.3333333333333333,\"#31688e\"],[0.4444444444444444,\"#26828e\"],[0.5555555555555556,\"#1f9e89\"],[0.6666666666666666,\"#35b779\"],[0.7777777777777778,\"#6ece58\"],[0.8888888888888888,\"#b5de2b\"],[1.0,\"#fde725\"]],\"sequentialminus\":[[0.0,\"#440154\"],[0.1111111111111111,\"#482878\"],[0.2222222222222222,\"#3e4989\"],[0.3333333333333333,\"#31688e\"],[0.4444444444444444,\"#26828e\"],[0.5555555555555556,\"#1f9e89\"],[0.6666666666666666,\"#35b779\"],[0.7777777777777778,\"#6ece58\"],[0.8888888888888888,\"#b5de2b\"],[1.0,\"#fde725\"]],\"diverging\":[[0.0,\"rgb(103,0,31)\"],[0.1,\"rgb(178,24,43)\"],[0.2,\"rgb(214,96,77)\"],[0.3,\"rgb(244,165,130)\"],[0.4,\"rgb(253,219,199)\"],[0.5,\"rgb(247,247,247)\"],[0.6,\"rgb(209,229,240)\"],[0.7,\"rgb(146,197,222)\"],[0.8,\"rgb(67,147,195)\"],[0.9,\"rgb(33,102,172)\"],[1.0,\"rgb(5,48,97)\"]]},\"xaxis\":{\"gridcolor\":\"rgb(232,232,232)\",\"linecolor\":\"rgb(36,36,36)\",\"showgrid\":false,\"showline\":true,\"ticks\":\"outside\",\"title\":{\"standoff\":15},\"zerolinecolor\":\"rgb(36,36,36)\",\"automargin\":true,\"zeroline\":false},\"yaxis\":{\"gridcolor\":\"rgb(232,232,232)\",\"linecolor\":\"rgb(36,36,36)\",\"showgrid\":false,\"showline\":true,\"ticks\":\"outside\",\"title\":{\"standoff\":15},\"zerolinecolor\":\"rgb(36,36,36)\",\"automargin\":true,\"zeroline\":false},\"scene\":{\"xaxis\":{\"backgroundcolor\":\"white\",\"gridcolor\":\"rgb(232,232,232)\",\"linecolor\":\"rgb(36,36,36)\",\"showbackground\":true,\"showgrid\":false,\"showline\":true,\"ticks\":\"outside\",\"zerolinecolor\":\"rgb(36,36,36)\",\"gridwidth\":2,\"zeroline\":false},\"yaxis\":{\"backgroundcolor\":\"white\",\"gridcolor\":\"rgb(232,232,232)\",\"linecolor\":\"rgb(36,36,36)\",\"showbackground\":true,\"showgrid\":false,\"showline\":true,\"ticks\":\"outside\",\"zerolinecolor\":\"rgb(36,36,36)\",\"gridwidth\":2,\"zeroline\":false},\"zaxis\":{\"backgroundcolor\":\"white\",\"gridcolor\":\"rgb(232,232,232)\",\"linecolor\":\"rgb(36,36,36)\",\"showbackground\":true,\"showgrid\":false,\"showline\":true,\"ticks\":\"outside\",\"zerolinecolor\":\"rgb(36,36,36)\",\"gridwidth\":2,\"zeroline\":false}},\"shapedefaults\":{\"fillcolor\":\"black\",\"line\":{\"width\":0},\"opacity\":0.3},\"annotationdefaults\":{\"arrowhead\":0,\"arrowwidth\":1},\"geo\":{\"bgcolor\":\"white\",\"landcolor\":\"white\",\"subunitcolor\":\"white\",\"showland\":true,\"showlakes\":true,\"lakecolor\":\"white\"},\"title\":{\"x\":0.05},\"mapbox\":{\"style\":\"light\"}}}},                        {\"responsive\": true}                    ).then(function(){\n",
       "                            \n",
       "var gd = document.getElementById('3d1cedbc-28b4-4728-a190-447587065392');\n",
       "var x = new MutationObserver(function (mutations, observer) {{\n",
       "        var display = window.getComputedStyle(gd).display;\n",
       "        if (!display || display === 'none') {{\n",
       "            console.log([gd, 'removed!']);\n",
       "            Plotly.purge(gd);\n",
       "            observer.disconnect();\n",
       "        }}\n",
       "}});\n",
       "\n",
       "// Listen for the removal of the full notebook cells\n",
       "var notebookContainer = gd.closest('#notebook-container');\n",
       "if (notebookContainer) {{\n",
       "    x.observe(notebookContainer, {childList: true});\n",
       "}}\n",
       "\n",
       "// Listen for the clearing of the current output cell\n",
       "var outputEl = gd.closest('.output');\n",
       "if (outputEl) {{\n",
       "    x.observe(outputEl, {childList: true});\n",
       "}}\n",
       "\n",
       "                        })                };                });            </script>        </div>"
      ]
     },
     "metadata": {},
     "output_type": "display_data"
    }
   ],
   "execution_count": 130
  },
  {
   "metadata": {
    "ExecuteTime": {
     "end_time": "2025-04-15T20:52:33.513515Z",
     "start_time": "2025-04-15T20:52:33.470353Z"
    }
   },
   "cell_type": "code",
   "source": "print_best_optuna(db, pareto=False)",
   "id": "96e1677cfbcff0cc",
   "outputs": [
    {
     "name": "stdout",
     "output_type": "stream",
     "text": [
      "\n",
      "Study name: gnn_nadam_study\n",
      "Best trial value: 4.1234702036967674e-05\n",
      "Best trial parameters:\n",
      "  num_layers: 5\n",
      "  lr: 0.00045830946730129885\n",
      "  hidden_dim: 2048\n",
      "  drop_rate: 0.14152253394728245\n",
      "  dropout_frequency: 3\n",
      "  se_reduction: 64\n",
      "  activation: relu\n",
      "  loss_name: l1\n",
      "  scheduler_factor: 0.06603369129970485\n",
      "  patience: 4\n",
      "  betas1: 0.9105880024486549\n",
      "  betas2: 0.9915574031641383\n",
      "  weight_decay: 3.7148597273862825e-09\n",
      "  momentum_decay: 0.03288402439883893\n"
     ]
    }
   ],
   "execution_count": 126
  },
  {
   "metadata": {
    "ExecuteTime": {
     "end_time": "2025-04-15T22:03:32.950101Z",
     "start_time": "2025-04-15T22:03:32.648238Z"
    }
   },
   "cell_type": "code",
   "source": [
    "import numpy as np\n",
    "import matplotlib.pyplot as plt\n",
    "\n",
    "# Suppose df is your DataFrame already loaded with your study results.\n",
    "# And assume that lower 'value' indicates better performance (e.g. error) or\n",
    "# if it's accuracy (higher is better), adjust the plotting labels accordingly.\n",
    "\n",
    "#range\n",
    "val_range = (float(4e-5), float(1e-3))\n",
    "\n",
    "#study\n",
    "df = study.trials_dataframe()\n",
    "df = df[df['value']<=val_range[1]][['value', 'params_num_layers', 'params_hidden_dim']].sort_values(by='value').copy()\n",
    "\n",
    "# 3D Scatter for both metrics\n",
    "fig = plt.figure(figsize=(10, 8))\n",
    "ax = fig.add_subplot(111, projection='3d')\n",
    "\n",
    "x = np.array(df['params_num_layers'])\n",
    "y = np.array(df['params_hidden_dim'])\n",
    "z = np.array(df['value'])\n",
    "\n",
    "sc = ax.scatter(x, y, z, c=z, cmap='viridis', marker='o', alpha=0.7)\n",
    "\n",
    "# Draw drop lines for each point:\n",
    "for xi, yi, zi in zip(x, y, z):\n",
    "    ax.plot([xi, xi], [yi, yi], [zi, val_range[0]], linestyle=':', color='gray', alpha=0.7)\n",
    "\n",
    "# x axis, n_layers\n",
    "ax.set_xlabel('Number of Layers')\n",
    "ax.set_xticks(np.arange(2, 10, 1))\n",
    "\n",
    "# y axis, hidden dims\n",
    "ax.set_ylabel('Hidden Dimension')\n",
    "ax.set_yticks([0, 256, 512, 1024, 2048])\n",
    "\n",
    "ax.set_zlabel('Accuracy')\n",
    "ax.set_zlim(val_range)\n",
    "ax.set_zscale('log')\n",
    "ax.set_title('3D Plot of Model Performance')\n",
    "ax.view_init(elev=25, azim=-35)\n",
    "fig.colorbar(sc, ax=ax, pad=0.1, shrink=0.5)\n",
    "plt.show()\n"
   ],
   "id": "b860157a869dd47f",
   "outputs": [
    {
     "data": {
      "text/plain": [
       "<Figure size 1000x800 with 2 Axes>"
      ],
      "image/png": "[encoded data removed]"
     },
     "metadata": {},
     "output_type": "display_data"
    }
   ],
   "execution_count": 159
  },
  {
   "metadata": {},
   "cell_type": "code",
   "source": [
    "print_best_optuna(study, single_pareto=0)\n",
    "#plot_pareto(study, single=0)\n",
    "plot_pareto(study, vals=[0,2], full=True)"
   ],
   "id": "d4db9379abfe0521",
   "outputs": [],
   "execution_count": null
  },
  {
   "metadata": {},
   "cell_type": "code",
   "source": "utils.optuna_helpers.print_best_optuna(studies[0], single_pareto=0)",
   "id": "30961f49c88b2118",
   "outputs": [],
   "execution_count": null
  },
  {
   "metadata": {},
   "cell_type": "markdown",
   "source": "# MAKING INTERP DATA",
   "id": "32b6e8d3e5b79bd1"
  },
  {
   "metadata": {
    "ExecuteTime": {
     "end_time": "2025-04-12T04:32:42.272540Z",
     "start_time": "2025-04-12T04:32:29.678814Z"
    }
   },
   "cell_type": "code",
   "source": [
    "from utils import *\n",
    "import matplotlib.pyplot as plt\n",
    "import numpy as np"
   ],
   "id": "2b6c2d307f78632c",
   "outputs": [],
   "execution_count": 2
  },
  {
   "metadata": {},
   "cell_type": "markdown",
   "source": "### MAKING SPHINPUTS/OBS_DATA",
   "id": "5952ecc46b56bf5d"
  },
  {
   "metadata": {
    "ExecuteTime": {
     "end_time": "2025-04-12T04:32:42.360833Z",
     "start_time": "2025-04-12T04:32:42.280053Z"
    }
   },
   "cell_type": "code",
   "source": [
    "reload = True\n",
    "inputs = load_np('inputs.npy', 'horizons.csv', reload=reload)\n",
    "earth_pos = load_np('earth_pos.npy', 'earth_pos.csv', reload=reload)"
   ],
   "id": "8f3b15922b484071",
   "outputs": [],
   "execution_count": 3
  },
  {
   "metadata": {
    "ExecuteTime": {
     "end_time": "2025-04-12T04:32:42.407771Z",
     "start_time": "2025-04-12T04:32:42.373770Z"
    }
   },
   "cell_type": "code",
   "source": [
    "t = inputs[:, 0]\n",
    "ts = t * 365.25 * 24 * 3600\n",
    "dt = np.median(np.diff(ts))\n",
    "dt"
   ],
   "id": "1b558c6ac7713809",
   "outputs": [
    {
     "data": {
      "text/plain": [
       "720.4931182861328"
      ]
     },
     "execution_count": 4,
     "metadata": {},
     "output_type": "execute_result"
    }
   ],
   "execution_count": 4
  },
  {
   "metadata": {
    "ExecuteTime": {
     "end_time": "2025-04-12T09:29:50.062579Z",
     "start_time": "2025-04-12T09:29:49.984650Z"
    }
   },
   "cell_type": "code",
   "source": [
    "x, y, z = mean_L_vector(og_x, og_v)\n",
    "ra = np.arctan2(y, x) * 180 / np.pi + 360\n",
    "dec = np.arctan2(z, np.sqrt(x**2 + y**2)) * 180 / np.pi\n",
    "ra, dec"
   ],
   "id": "cc3d28bc7afa6748",
   "outputs": [
    {
     "data": {
      "text/plain": [
       "(281.03050918282406, 61.45410488554413)"
      ]
     },
     "execution_count": 13,
     "metadata": {},
     "output_type": "execute_result"
    }
   ],
   "execution_count": 13
  },
  {
   "metadata": {},
   "cell_type": "code",
   "outputs": [],
   "execution_count": null,
   "source": "",
   "id": "d3dd50eed9ac3435"
  },
  {
   "metadata": {
    "ExecuteTime": {
     "end_time": "2025-04-12T04:32:51.120220Z",
     "start_time": "2025-04-12T04:32:50.566225Z"
    }
   },
   "cell_type": "code",
   "source": [
    "og_x = inputs[:, 1:4]\n",
    "og_v = inputs[:, 4:]\n",
    "rx, rv = flat_plane(og_x, og_v)"
   ],
   "id": "b536d5c687439a9b",
   "outputs": [],
   "execution_count": 5
  },
  {
   "metadata": {
    "ExecuteTime": {
     "end_time": "2025-03-09T00:06:38.454726Z",
     "start_time": "2025-03-09T00:06:37.619291Z"
    }
   },
   "cell_type": "code",
   "source": [
    "full_cart = get_movements(np.column_stack([ts, rx, rv]))\n",
    "full_cart"
   ],
   "id": "4c0b47585fd283aa",
   "outputs": [
    {
     "data": {
      "text/plain": [
       "array([[ 5.83909841e+10,  3.52321080e+10,  3.19495428e+10, ...,\n",
       "        -4.34302535e-02, -3.93838509e-02,  3.23118487e-06],\n",
       "       [ 5.83909848e+10,  3.52013459e+10,  3.19770894e+10, ...,\n",
       "        -4.34039930e-02, -3.94283990e-02,  3.23103901e-06],\n",
       "       [ 5.83909855e+10,  3.51705613e+10,  3.20046155e+10, ...,\n",
       "        -4.33776950e-02, -3.94729499e-02,  3.23089126e-06],\n",
       "       ...,\n",
       "       [ 5.96532859e+10,  3.00808842e+09,  4.59777004e+10, ...,\n",
       "        -4.07829289e-03, -6.23357200e-02, -1.85569254e-06],\n",
       "       [ 5.96532866e+10,  2.96584840e+09,  4.59814420e+10, ...,\n",
       "        -4.02076388e-03, -6.23367503e-02, -1.85282434e-06],\n",
       "       [ 5.96532873e+10,  2.92360629e+09,  4.59851512e+10, ...,\n",
       "        -3.96323692e-03, -6.23376970e-02, -1.84995401e-06]])"
      ]
     },
     "execution_count": 5,
     "metadata": {},
     "output_type": "execute_result"
    }
   ],
   "execution_count": 5
  },
  {
   "metadata": {
    "ExecuteTime": {
     "end_time": "2025-03-09T00:23:33.750177Z",
     "start_time": "2025-03-09T00:23:33.694884Z"
    }
   },
   "cell_type": "code",
   "source": [
    "sph = cart_to_sph(rx)\n",
    "r, theta, phi = sph.T"
   ],
   "id": "4ecd43068307017a",
   "outputs": [
    {
     "name": "stdout",
     "output_type": "stream",
     "text": [
      "(1753200,)\n"
     ]
    }
   ],
   "execution_count": 11
  },
  {
   "metadata": {
    "ExecuteTime": {
     "end_time": "2025-03-09T00:23:37.071811Z",
     "start_time": "2025-03-09T00:23:36.975896Z"
    }
   },
   "cell_type": "code",
   "source": [
    "r_unit = rx/r.reshape(-1, 1)\n",
    "theta_unit = np.column_stack([np.cos(theta)*np.cos(phi), np.cos(theta)*np.sin(phi), -np.sin(theta)])\n",
    "phi_unit = np.column_stack([-np.sin(phi), np.cos(phi), np.zeros_like(phi)])"
   ],
   "id": "6e80522bebaa7c5",
   "outputs": [],
   "execution_count": 12
  },
  {
   "metadata": {
    "ExecuteTime": {
     "end_time": "2025-03-06T00:04:16.939932Z",
     "start_time": "2025-03-06T00:04:16.839942Z"
    }
   },
   "cell_type": "code",
   "source": [
    "v_r = np.einsum('ij,ij->i', rv, r_unit)\n",
    "v_theta = np.einsum('ij,ij->i', rv, theta_unit)\n",
    "v_phi = np.einsum('ij,ij->i', rv, phi_unit)"
   ],
   "id": "4d6db3e6790aa437",
   "outputs": [],
   "execution_count": 15
  },
  {
   "metadata": {
    "ExecuteTime": {
     "end_time": "2025-03-06T00:08:09.965298Z",
     "start_time": "2025-03-06T00:08:09.843206Z"
    }
   },
   "cell_type": "code",
   "source": [
    "a_full = full_cart[:, -3:]\n",
    "a_r = np.einsum('ij,ij->i', a_full, r_unit)\n",
    "a_theta = np.einsum('ij,ij->i', a_full, theta_unit)\n",
    "a_phi = np.einsum('ij,ij->i', a_full, phi_unit)"
   ],
   "id": "d6e6925823c81024",
   "outputs": [],
   "execution_count": 19
  },
  {
   "metadata": {
    "ExecuteTime": {
     "end_time": "2025-03-06T03:40:37.656265Z",
     "start_time": "2025-03-06T03:40:37.492836Z"
    }
   },
   "cell_type": "code",
   "source": [
    "sphinputs = np.column_stack([ts, r, theta, phi, v_r, v_theta, v_phi, a_r, a_theta, a_phi])\n",
    "sphinputs"
   ],
   "id": "7481a9af0fa98b29",
   "outputs": [
    {
     "data": {
      "text/plain": [
       "array([[ 5.83909841e+10,  4.75612734e+10,  1.57085148e+00, ...,\n",
       "        -5.86282751e-02,  2.10771578e-09,  1.37462570e-08],\n",
       "       [ 5.83909848e+10,  4.75570080e+10,  1.57085146e+00, ...,\n",
       "        -5.86387693e-02,  2.11411213e-09,  1.37183261e-08],\n",
       "       [ 5.83909855e+10,  4.75527476e+10,  1.57085145e+00, ...,\n",
       "        -5.86492814e-02,  2.12058385e-09,  1.36741566e-08],\n",
       "       ...,\n",
       "       [ 5.96532859e+10,  4.60759974e+10,  1.57076675e+00, ...,\n",
       "        -6.24689880e-02,  7.77071112e-09, -1.79796743e-08],\n",
       "       [ 5.96532866e+10,  4.60769928e+10,  1.57076679e+00, ...,\n",
       "        -6.24662868e-02,  7.77001646e-09, -1.80180136e-08],\n",
       "       [ 5.96532873e+10,  4.60779948e+10,  1.57076683e+00, ...,\n",
       "        -6.24635551e-02,  7.76930765e-09, -1.81021954e-08]])"
      ]
     },
     "execution_count": 28,
     "metadata": {},
     "output_type": "execute_result"
    }
   ],
   "execution_count": 28
  },
  {
   "metadata": {
    "ExecuteTime": {
     "end_time": "2025-03-06T03:44:09.997066Z",
     "start_time": "2025-03-06T03:44:09.904763Z"
    }
   },
   "cell_type": "code",
   "source": [
    "np.save('sphinputs.npy', sphinputs)\n",
    "sphinputs"
   ],
   "id": "f70cfbb96ba0ca97",
   "outputs": [
    {
     "data": {
      "text/plain": [
       "array([[ 5.83909841e+10,  4.75612734e+10,  1.57085148e+00, ...,\n",
       "        -5.86282751e-02,  2.10771578e-09,  1.37462570e-08],\n",
       "       [ 5.83909848e+10,  4.75570080e+10,  1.57085146e+00, ...,\n",
       "        -5.86387693e-02,  2.11411213e-09,  1.37183261e-08],\n",
       "       [ 5.83909855e+10,  4.75527476e+10,  1.57085145e+00, ...,\n",
       "        -5.86492814e-02,  2.12058385e-09,  1.36741566e-08],\n",
       "       ...,\n",
       "       [ 5.96532859e+10,  4.60759974e+10,  1.57076675e+00, ...,\n",
       "        -6.24689880e-02,  7.77071112e-09, -1.79796743e-08],\n",
       "       [ 5.96532866e+10,  4.60769928e+10,  1.57076679e+00, ...,\n",
       "        -6.24662868e-02,  7.77001646e-09, -1.80180136e-08],\n",
       "       [ 5.96532873e+10,  4.60779948e+10,  1.57076683e+00, ...,\n",
       "        -6.24635551e-02,  7.76930765e-09, -1.81021954e-08]])"
      ]
     },
     "execution_count": 37,
     "metadata": {},
     "output_type": "execute_result"
    }
   ],
   "execution_count": 37
  },
  {
   "metadata": {
    "ExecuteTime": {
     "end_time": "2025-03-06T03:44:54.124270Z",
     "start_time": "2025-03-06T03:44:54.031970Z"
    }
   },
   "cell_type": "code",
   "source": [
    "obs_data = np.column_stack((ts, og_x, earth_pos[:, 1:]))\n",
    "np.save('obs_data.npy', obs_data)\n",
    "obs_data"
   ],
   "id": "df7f0a4f270bff03",
   "outputs": [
    {
     "data": {
      "text/plain": [
       "array([[ 5.83909841e+10,  3.58044721e+10,  2.90133329e+10, ...,\n",
       "        -1.28028870e+11, -7.23750078e+10, -3.14114963e+10],\n",
       "       [ 5.83909848e+10,  3.57744759e+10,  2.90369507e+10, ...,\n",
       "        -1.28017961e+11, -7.23918227e+10, -3.14187937e+10],\n",
       "       [ 5.83909855e+10,  3.57444567e+10,  2.90605499e+10, ...,\n",
       "        -1.28007049e+11, -7.24086362e+10, -3.14260906e+10],\n",
       "       ...,\n",
       "       [ 5.96532859e+10,  4.04447894e+09,  4.06610497e+10, ...,\n",
       "        -1.28390378e+11, -7.18171244e+10, -3.11606480e+10],\n",
       "       [ 5.96532866e+10,  4.00251213e+09,  4.06633897e+10, ...,\n",
       "        -1.28379556e+11, -7.18340009e+10, -3.11679701e+10],\n",
       "       [ 5.96532873e+10,  3.96054251e+09,  4.06657011e+10, ...,\n",
       "        -1.28368732e+11, -7.18508760e+10, -3.11752916e+10]])"
      ]
     },
     "execution_count": 40,
     "metadata": {},
     "output_type": "execute_result"
    }
   ],
   "execution_count": 40
  },
  {
   "metadata": {
    "ExecuteTime": {
     "end_time": "2025-03-06T03:44:59.961124Z",
     "start_time": "2025-03-06T03:44:59.862446Z"
    }
   },
   "cell_type": "code",
   "source": [
    "sphinputs = np.load('sphinputs.npy')\n",
    "sphinputs"
   ],
   "id": "ff3c1a839c02e47e",
   "outputs": [
    {
     "data": {
      "text/plain": [
       "array([[ 5.83909841e+10,  4.75612734e+10,  1.57085148e+00, ...,\n",
       "        -5.86282751e-02,  2.10771578e-09,  1.37462570e-08],\n",
       "       [ 5.83909848e+10,  4.75570080e+10,  1.57085146e+00, ...,\n",
       "        -5.86387693e-02,  2.11411213e-09,  1.37183261e-08],\n",
       "       [ 5.83909855e+10,  4.75527476e+10,  1.57085145e+00, ...,\n",
       "        -5.86492814e-02,  2.12058385e-09,  1.36741566e-08],\n",
       "       ...,\n",
       "       [ 5.96532859e+10,  4.60759974e+10,  1.57076675e+00, ...,\n",
       "        -6.24689880e-02,  7.77071112e-09, -1.79796743e-08],\n",
       "       [ 5.96532866e+10,  4.60769928e+10,  1.57076679e+00, ...,\n",
       "        -6.24662868e-02,  7.77001646e-09, -1.80180136e-08],\n",
       "       [ 5.96532873e+10,  4.60779948e+10,  1.57076683e+00, ...,\n",
       "        -6.24635551e-02,  7.76930765e-09, -1.81021954e-08]])"
      ]
     },
     "execution_count": 41,
     "metadata": {},
     "output_type": "execute_result"
    }
   ],
   "execution_count": 41
  },
  {
   "metadata": {
    "ExecuteTime": {
     "end_time": "2025-03-06T03:45:08.728845Z",
     "start_time": "2025-03-06T03:45:08.706760Z"
    }
   },
   "cell_type": "code",
   "source": [
    "from importlib import reload\n",
    "import utils\n",
    "reload(utils)"
   ],
   "id": "d42864c389350631",
   "outputs": [
    {
     "data": {
      "text/plain": [
       "<module 'utils' from '/Users/blu3/PycharmProjects/orbit_ml/utils/__init__.py'>"
      ]
     },
     "execution_count": 42,
     "metadata": {},
     "output_type": "execute_result"
    }
   ],
   "execution_count": 42
  },
  {
   "metadata": {
    "ExecuteTime": {
     "end_time": "2025-03-06T03:45:09.982476Z",
     "start_time": "2025-03-06T03:45:09.820062Z"
    }
   },
   "cell_type": "code",
   "source": [
    "obs_data = np.load('obs_data.npy')\n",
    "visible_times = utils.find_observation_times(obs_data)\n",
    "len(visible_times)"
   ],
   "id": "15b3c3b9f710a9a5",
   "outputs": [
    {
     "data": {
      "text/plain": [
       "500374"
      ]
     },
     "execution_count": 43,
     "metadata": {},
     "output_type": "execute_result"
    }
   ],
   "execution_count": 43
  },
  {
   "metadata": {},
   "cell_type": "markdown",
   "source": "#### ALL WHERE CONDITIONS SHOULD OUTPUT EMPTY ARRAYS",
   "id": "3afdbcc895c5170"
  },
  {
   "metadata": {
    "ExecuteTime": {
     "end_time": "2025-03-06T03:45:12.465417Z",
     "start_time": "2025-03-06T03:45:12.452360Z"
    }
   },
   "cell_type": "code",
   "source": "np.where( (600 > (np.diff(t)* 86400 * 365.25)) & ( (np.diff(t)* 86400 * 365.25) > 800)) ",
   "id": "7a12d1441860cb",
   "outputs": [
    {
     "data": {
      "text/plain": [
       "(array([], dtype=int64),)"
      ]
     },
     "execution_count": 44,
     "metadata": {},
     "output_type": "execute_result"
    }
   ],
   "execution_count": 44
  },
  {
   "metadata": {
    "ExecuteTime": {
     "end_time": "2025-03-06T03:45:12.946575Z",
     "start_time": "2025-03-06T03:45:12.942133Z"
    }
   },
   "cell_type": "code",
   "source": "np.where((np.diff(visible_times) * 86400 * 365.25) < 600)",
   "id": "87b6806f28395b50",
   "outputs": [
    {
     "data": {
      "text/plain": [
       "(array([], dtype=int64),)"
      ]
     },
     "execution_count": 45,
     "metadata": {},
     "output_type": "execute_result"
    }
   ],
   "execution_count": 45
  },
  {
   "metadata": {
    "ExecuteTime": {
     "end_time": "2025-03-06T03:45:13.786297Z",
     "start_time": "2025-03-06T03:45:13.358053Z"
    }
   },
   "cell_type": "code",
   "source": "plt.plot(range(len(t)-1), np.diff(t.reshape(-1,)) * 86400 * 365.25) ",
   "id": "828a9e73277f791f",
   "outputs": [
    {
     "data": {
      "text/plain": [
       "[<matplotlib.lines.Line2D at 0x3593715b0>]"
      ]
     },
     "execution_count": 46,
     "metadata": {},
     "output_type": "execute_result"
    },
    {
     "data": {
      "text/plain": [
       "<Figure size 640x480 with 1 Axes>"
      ],
      "image/png": "[encoded data removed]"
     },
     "metadata": {},
     "output_type": "display_data"
    }
   ],
   "execution_count": 46
  },
  {
   "metadata": {
    "ExecuteTime": {
     "end_time": "2025-03-06T03:45:22.741343Z",
     "start_time": "2025-03-06T03:45:22.600527Z"
    }
   },
   "cell_type": "code",
   "source": [
    "realistic_sphinputs = sphinputs[np.isin(sphinputs[:, 0], visible_times, assume_unique=True)]\n",
    "realistic_sphinputs"
   ],
   "id": "8453e52d26680ad1",
   "outputs": [
    {
     "data": {
      "text/plain": [
       "array([[ 5.84030350e+10,  6.97609512e+10,  1.57076401e+00, ...,\n",
       "        -2.72514260e-02, -1.46506427e-08,  7.00281954e-08],\n",
       "       [ 5.84030357e+10,  6.97603896e+10,  1.57076403e+00, ...,\n",
       "        -2.72518652e-02, -1.46624281e-08,  7.00673433e-08],\n",
       "       [ 5.84030365e+10,  6.97598250e+10,  1.57076405e+00, ...,\n",
       "        -2.72523090e-02, -1.46742187e-08,  7.01092923e-08],\n",
       "       ...,\n",
       "       [ 5.96509918e+10,  6.27981414e+10,  1.57078061e+00, ...,\n",
       "        -3.36295014e-02, -7.42547821e-09, -6.66720852e-09],\n",
       "       [ 5.96509926e+10,  6.27921813e+10,  1.57078058e+00, ...,\n",
       "        -3.36358886e-02, -7.42374528e-09, -6.68060216e-09],\n",
       "       [ 5.96509933e+10,  6.27862192e+10,  1.57078055e+00, ...,\n",
       "        -3.36422758e-02, -7.42200090e-09, -6.69211919e-09]])"
      ]
     },
     "execution_count": 47,
     "metadata": {},
     "output_type": "execute_result"
    }
   ],
   "execution_count": 47
  },
  {
   "metadata": {
    "ExecuteTime": {
     "end_time": "2025-03-06T03:45:35.754620Z",
     "start_time": "2025-03-06T03:45:35.736751Z"
    }
   },
   "cell_type": "code",
   "source": [
    "r = realistic_sphinputs[:, 1]\n",
    "phi = realistic_sphinputs[:, 3]\n",
    "vp = realistic_sphinputs[:, 6]\n",
    "interp_data = np.stack((r, phi, vp), axis=1)\n",
    "interp_data"
   ],
   "id": "22155bbfc5bc6124",
   "outputs": [
    {
     "data": {
      "text/plain": [
       "array([[ 6.97609512e+10, -1.69727437e+00,  3.88900341e+04],\n",
       "       [ 6.97603896e+10, -1.69687298e+00,  3.88903472e+04],\n",
       "       [ 6.97598250e+10, -1.69647159e+00,  3.88906620e+04],\n",
       "       ...,\n",
       "       [ 6.27981414e+10, -8.07134027e-01,  4.32017687e+04],\n",
       "       [ 6.27921813e+10, -8.06638658e-01,  4.32058693e+04],\n",
       "       [ 6.27862192e+10, -8.06143195e-01,  4.32099721e+04]])"
      ]
     },
     "execution_count": 48,
     "metadata": {},
     "output_type": "execute_result"
    }
   ],
   "execution_count": 48
  },
  {
   "metadata": {
    "ExecuteTime": {
     "end_time": "2025-03-06T03:45:38.638860Z",
     "start_time": "2025-03-06T03:45:38.633044Z"
    }
   },
   "cell_type": "code",
   "source": "np.save('interp_data.npy', interp_data)",
   "id": "5077fa6d245e1445",
   "outputs": [],
   "execution_count": 49
  },
  {
   "metadata": {
    "ExecuteTime": {
     "end_time": "2025-03-06T03:45:39.590820Z",
     "start_time": "2025-03-06T03:45:39.585330Z"
    }
   },
   "cell_type": "code",
   "source": [
    "interp_data = np.load('interp_data.npy')\n",
    "interp_data"
   ],
   "id": "abf6c59c6c28a4a6",
   "outputs": [
    {
     "data": {
      "text/plain": [
       "array([[ 6.97609512e+10, -1.69727437e+00,  3.88900341e+04],\n",
       "       [ 6.97603896e+10, -1.69687298e+00,  3.88903472e+04],\n",
       "       [ 6.97598250e+10, -1.69647159e+00,  3.88906620e+04],\n",
       "       ...,\n",
       "       [ 6.27981414e+10, -8.07134027e-01,  4.32017687e+04],\n",
       "       [ 6.27921813e+10, -8.06638658e-01,  4.32058693e+04],\n",
       "       [ 6.27862192e+10, -8.06143195e-01,  4.32099721e+04]])"
      ]
     },
     "execution_count": 50,
     "metadata": {},
     "output_type": "execute_result"
    }
   ],
   "execution_count": 50
  },
  {
   "metadata": {},
   "cell_type": "markdown",
   "source": "# GETTING ACCELERATIONS FOR GNN",
   "id": "49b9723b5e8a7f43"
  },
  {
   "metadata": {
    "ExecuteTime": {
     "end_time": "2025-03-06T03:45:42.407038Z",
     "start_time": "2025-03-06T03:45:42.403385Z"
    }
   },
   "cell_type": "code",
   "source": "visible_times, len(visible_times)",
   "id": "cf0f609dc416023e",
   "outputs": [
    {
     "data": {
      "text/plain": [
       "(array([5.84030350e+10, 5.84030357e+10, 5.84030365e+10, ...,\n",
       "        5.96509918e+10, 5.96509926e+10, 5.96509933e+10]),\n",
       " 500374)"
      ]
     },
     "execution_count": 51,
     "metadata": {},
     "output_type": "execute_result"
    }
   ],
   "execution_count": 51
  },
  {
   "metadata": {},
   "cell_type": "markdown",
   "source": "### Observational (Realistic) Data, Rotated to be in a flat plane of motion",
   "id": "c0add35d70d19d44"
  },
  {
   "metadata": {
    "ExecuteTime": {
     "end_time": "2025-03-06T03:45:58.906670Z",
     "start_time": "2025-03-06T03:45:58.897636Z"
    }
   },
   "cell_type": "code",
   "source": [
    "targets = sphinputs\n",
    "targets"
   ],
   "id": "393fb0528957f37f",
   "outputs": [
    {
     "data": {
      "text/plain": [
       "array([[ 5.83909841e+10,  4.75612734e+10,  1.57085148e+00, ...,\n",
       "        -5.86282751e-02,  2.10771578e-09,  1.37462570e-08],\n",
       "       [ 5.83909848e+10,  4.75570080e+10,  1.57085146e+00, ...,\n",
       "        -5.86387693e-02,  2.11411213e-09,  1.37183261e-08],\n",
       "       [ 5.83909855e+10,  4.75527476e+10,  1.57085145e+00, ...,\n",
       "        -5.86492814e-02,  2.12058385e-09,  1.36741566e-08],\n",
       "       ...,\n",
       "       [ 5.96532859e+10,  4.60759974e+10,  1.57076675e+00, ...,\n",
       "        -6.24689880e-02,  7.77071112e-09, -1.79796743e-08],\n",
       "       [ 5.96532866e+10,  4.60769928e+10,  1.57076679e+00, ...,\n",
       "        -6.24662868e-02,  7.77001646e-09, -1.80180136e-08],\n",
       "       [ 5.96532873e+10,  4.60779948e+10,  1.57076683e+00, ...,\n",
       "        -6.24635551e-02,  7.76930765e-09, -1.81021954e-08]])"
      ]
     },
     "execution_count": 52,
     "metadata": {},
     "output_type": "execute_result"
    }
   ],
   "execution_count": 52
  },
  {
   "metadata": {},
   "cell_type": "markdown",
   "source": "### ginputs, inputs for GNN",
   "id": "c34b5aae4712f807"
  },
  {
   "metadata": {
    "ExecuteTime": {
     "end_time": "2025-03-06T03:46:07.661272Z",
     "start_time": "2025-03-06T03:46:07.550994Z"
    }
   },
   "cell_type": "code",
   "source": [
    "sphfeats = targets\n",
    "ginputs = sphfeats[np.isin(sphfeats[:, 0], visible_times, assume_unique=True)]\n",
    "ginputs"
   ],
   "id": "7c09c08afd3ec777",
   "outputs": [
    {
     "data": {
      "text/plain": [
       "array([[ 5.84030350e+10,  6.97609512e+10,  1.57076401e+00, ...,\n",
       "        -2.72514260e-02, -1.46506427e-08,  7.00281954e-08],\n",
       "       [ 5.84030357e+10,  6.97603896e+10,  1.57076403e+00, ...,\n",
       "        -2.72518652e-02, -1.46624281e-08,  7.00673433e-08],\n",
       "       [ 5.84030365e+10,  6.97598250e+10,  1.57076405e+00, ...,\n",
       "        -2.72523090e-02, -1.46742187e-08,  7.01092923e-08],\n",
       "       ...,\n",
       "       [ 5.96509918e+10,  6.27981414e+10,  1.57078061e+00, ...,\n",
       "        -3.36295014e-02, -7.42547821e-09, -6.66720852e-09],\n",
       "       [ 5.96509926e+10,  6.27921813e+10,  1.57078058e+00, ...,\n",
       "        -3.36358886e-02, -7.42374528e-09, -6.68060216e-09],\n",
       "       [ 5.96509933e+10,  6.27862192e+10,  1.57078055e+00, ...,\n",
       "        -3.36422758e-02, -7.42200090e-09, -6.69211919e-09]])"
      ]
     },
     "execution_count": 53,
     "metadata": {},
     "output_type": "execute_result"
    }
   ],
   "execution_count": 53
  },
  {
   "metadata": {
    "ExecuteTime": {
     "end_time": "2025-03-06T03:46:09.160272Z",
     "start_time": "2025-03-06T03:46:09.126601Z"
    }
   },
   "cell_type": "code",
   "source": [
    "np.save('ginputs.npy', ginputs)\n",
    "ginputs"
   ],
   "id": "232e560cc7a5392f",
   "outputs": [
    {
     "data": {
      "text/plain": [
       "array([[ 5.84030350e+10,  6.97609512e+10,  1.57076401e+00, ...,\n",
       "        -2.72514260e-02, -1.46506427e-08,  7.00281954e-08],\n",
       "       [ 5.84030357e+10,  6.97603896e+10,  1.57076403e+00, ...,\n",
       "        -2.72518652e-02, -1.46624281e-08,  7.00673433e-08],\n",
       "       [ 5.84030365e+10,  6.97598250e+10,  1.57076405e+00, ...,\n",
       "        -2.72523090e-02, -1.46742187e-08,  7.01092923e-08],\n",
       "       ...,\n",
       "       [ 5.96509918e+10,  6.27981414e+10,  1.57078061e+00, ...,\n",
       "        -3.36295014e-02, -7.42547821e-09, -6.66720852e-09],\n",
       "       [ 5.96509926e+10,  6.27921813e+10,  1.57078058e+00, ...,\n",
       "        -3.36358886e-02, -7.42374528e-09, -6.68060216e-09],\n",
       "       [ 5.96509933e+10,  6.27862192e+10,  1.57078055e+00, ...,\n",
       "        -3.36422758e-02, -7.42200090e-09, -6.69211919e-09]])"
      ]
     },
     "execution_count": 54,
     "metadata": {},
     "output_type": "execute_result"
    }
   ],
   "execution_count": 54
  },
  {
   "metadata": {
    "ExecuteTime": {
     "end_time": "2025-04-12T04:15:48.126769Z",
     "start_time": "2025-04-12T04:15:47.970860Z"
    }
   },
   "cell_type": "code",
   "source": [
    "ginputs = np.load('ginputs.npy')\n",
    "ginputs"
   ],
   "id": "63fd55f4037c83bc",
   "outputs": [
    {
     "data": {
      "text/plain": [
       "array([[ 5.84030350e+10,  6.97609512e+10,  1.57076401e+00, ...,\n",
       "        -2.72514260e-02, -1.46506427e-08,  7.00281954e-08],\n",
       "       [ 5.84030357e+10,  6.97603896e+10,  1.57076403e+00, ...,\n",
       "        -2.72518652e-02, -1.46624281e-08,  7.00673433e-08],\n",
       "       [ 5.84030365e+10,  6.97598250e+10,  1.57076405e+00, ...,\n",
       "        -2.72523090e-02, -1.46742187e-08,  7.01092923e-08],\n",
       "       ...,\n",
       "       [ 5.96509918e+10,  6.27981414e+10,  1.57078061e+00, ...,\n",
       "        -3.36295014e-02, -7.42547821e-09, -6.66720852e-09],\n",
       "       [ 5.96509926e+10,  6.27921813e+10,  1.57078058e+00, ...,\n",
       "        -3.36358886e-02, -7.42374528e-09, -6.68060216e-09],\n",
       "       [ 5.96509933e+10,  6.27862192e+10,  1.57078055e+00, ...,\n",
       "        -3.36422758e-02, -7.42200090e-09, -6.69211919e-09]])"
      ]
     },
     "execution_count": 1,
     "metadata": {},
     "output_type": "execute_result"
    }
   ],
   "execution_count": 1
  },
  {
   "metadata": {},
   "cell_type": "markdown",
   "source": "### GNN Targets for evaluation accuracy of GNN",
   "id": "ce9df02237ff7fcc"
  },
  {
   "metadata": {
    "ExecuteTime": {
     "end_time": "2025-03-06T03:46:39.724150Z",
     "start_time": "2025-03-06T03:46:39.605350Z"
    }
   },
   "cell_type": "code",
   "source": [
    "gnn_targets = targets\n",
    "np.save('gnn_targets.npy', gnn_targets)\n",
    "gnn_targets"
   ],
   "id": "838854723c0963ed",
   "outputs": [
    {
     "data": {
      "text/plain": [
       "array([[ 5.83909841e+10,  4.75612734e+10,  1.57085148e+00, ...,\n",
       "        -5.86282751e-02,  2.10771578e-09,  1.37462570e-08],\n",
       "       [ 5.83909848e+10,  4.75570080e+10,  1.57085146e+00, ...,\n",
       "        -5.86387693e-02,  2.11411213e-09,  1.37183261e-08],\n",
       "       [ 5.83909855e+10,  4.75527476e+10,  1.57085145e+00, ...,\n",
       "        -5.86492814e-02,  2.12058385e-09,  1.36741566e-08],\n",
       "       ...,\n",
       "       [ 5.96532859e+10,  4.60759974e+10,  1.57076675e+00, ...,\n",
       "        -6.24689880e-02,  7.77071112e-09, -1.79796743e-08],\n",
       "       [ 5.96532866e+10,  4.60769928e+10,  1.57076679e+00, ...,\n",
       "        -6.24662868e-02,  7.77001646e-09, -1.80180136e-08],\n",
       "       [ 5.96532873e+10,  4.60779948e+10,  1.57076683e+00, ...,\n",
       "        -6.24635551e-02,  7.76930765e-09, -1.81021954e-08]])"
      ]
     },
     "execution_count": 56,
     "metadata": {},
     "output_type": "execute_result"
    }
   ],
   "execution_count": 56
  },
  {
   "metadata": {},
   "cell_type": "markdown",
   "source": "# SCRAP",
   "id": "cd132c7d461095e4"
  },
  {
   "metadata": {
    "ExecuteTime": {
     "end_time": "2025-03-11T11:35:13.483242Z",
     "start_time": "2025-03-11T11:35:13.470686Z"
    }
   },
   "cell_type": "code",
   "source": [
    "import sympy as sp\n",
    "expr = sp.sympify(\"v_phi**2/((-34689470.0)*1598.5605*v_phi)\")\n",
    "simplified_expr = sp.simplify(expr)\n",
    "print(simplified_expr)"
   ],
   "id": "a29c2dcb5151e32c",
   "outputs": [
    {
     "name": "stdout",
     "output_type": "stream",
     "text": [
      "-1.80332190443255e-11*v_phi\n"
     ]
    }
   ],
   "execution_count": 64
  },
  {
   "metadata": {
    "ExecuteTime": {
     "end_time": "2025-03-11T09:52:20.652920Z",
     "start_time": "2025-03-11T09:52:20.649Z"
    }
   },
   "cell_type": "code",
   "source": [
    "import matplotlib as mpl\n",
    "mpl.rcParams['lines.markersize']"
   ],
   "id": "a038884c7baea227",
   "outputs": [
    {
     "data": {
      "text/plain": [
       "6.0"
      ]
     },
     "execution_count": 59,
     "metadata": {},
     "output_type": "execute_result"
    }
   ],
   "execution_count": 59
  },
  {
   "metadata": {
    "ExecuteTime": {
     "end_time": "2025-03-11T08:41:33.812735Z",
     "start_time": "2025-03-11T08:41:33.787973Z"
    }
   },
   "cell_type": "code",
   "source": [
    "variable_names = ['r', 'theta', 'phi', 'v_r', 'v_theta', 'v_phi']\n",
    "sorted(['v_phi', 'theta', 'r', 'v_r'], key=lambda s: variable_names.index(str(s)))"
   ],
   "id": "1c7f711b09e718c0",
   "outputs": [
    {
     "data": {
      "text/plain": [
       "['r', 'theta', 'v_r', 'v_phi']"
      ]
     },
     "execution_count": 50,
     "metadata": {},
     "output_type": "execute_result"
    }
   ],
   "execution_count": 50
  },
  {
   "metadata": {
    "ExecuteTime": {
     "end_time": "2025-03-11T09:04:03.989228Z",
     "start_time": "2025-03-11T09:04:03.985811Z"
    }
   },
   "cell_type": "code",
   "source": [
    "column_dicts = dict(zip(variable_names, [variable_names.index(str(s)) for s in variable_names]))\n",
    "column_dicts['r']"
   ],
   "id": "b36f63dad66d54bc",
   "outputs": [
    {
     "data": {
      "text/plain": [
       "0"
      ]
     },
     "execution_count": 55,
     "metadata": {},
     "output_type": "execute_result"
    }
   ],
   "execution_count": 55
  },
  {
   "metadata": {
    "ExecuteTime": {
     "end_time": "2025-03-11T08:42:07.152993Z",
     "start_time": "2025-03-11T08:42:07.150294Z"
    }
   },
   "cell_type": "code",
   "source": [
    "for s in variable_names:\n",
    "    print(variable_names.index(str(s)))"
   ],
   "id": "a95a5a6ca607d84f",
   "outputs": [
    {
     "name": "stdout",
     "output_type": "stream",
     "text": [
      "0\n",
      "1\n",
      "2\n",
      "3\n",
      "4\n",
      "5\n"
     ]
    }
   ],
   "execution_count": 52
  },
  {
   "metadata": {
    "ExecuteTime": {
     "end_time": "2025-03-10T09:12:20.072198Z",
     "start_time": "2025-03-10T09:12:19.864053Z"
    }
   },
   "cell_type": "code",
   "source": [
    "gnn_targets = np.load('gnn_targets.npy')\n",
    "np.std(gnn_targets, axis=0)"
   ],
   "id": "b53efe13b0da5376",
   "outputs": [
    {
     "data": {
      "text/plain": [
       "array([3.64394646e+08, 8.33234957e+09, 2.33085760e-05, 1.80410771e+00,\n",
       "       6.99602317e+03, 1.10682233e+00, 6.92523409e+03, 1.21031263e-02,\n",
       "       7.79566195e-09, 3.30275553e-08])"
      ]
     },
     "execution_count": 20,
     "metadata": {},
     "output_type": "execute_result"
    }
   ],
   "execution_count": 20
  },
  {
   "metadata": {
    "ExecuteTime": {
     "end_time": "2025-03-06T05:47:54.234782Z",
     "start_time": "2025-03-06T05:47:54.227072Z"
    }
   },
   "cell_type": "code",
   "source": [
    "test_r = gnn_targets[0, 1] / 1000\n",
    "test_vp = gnn_targets[0, 6] / 1000\n",
    "test_a = gnn_targets[0, 7] / 1000\n",
    "test_r, test_vp, test_a"
   ],
   "id": "20a2d575bf359c9",
   "outputs": [
    {
     "data": {
      "text/plain": [
       "(47561273.38575632, 57.042210501896676, -5.862827506524725e-05)"
      ]
     },
     "execution_count": 63,
     "metadata": {},
     "output_type": "execute_result"
    }
   ],
   "execution_count": 63
  },
  {
   "metadata": {
    "ExecuteTime": {
     "end_time": "2025-03-06T05:46:18.230633Z",
     "start_time": "2025-03-06T05:46:18.227612Z"
    }
   },
   "cell_type": "code",
   "source": "-132712e6 / test_r ** 2",
   "id": "bbf438098e04090d",
   "outputs": [
    {
     "data": {
      "text/plain": [
       "-5.8668265230253174e-05"
      ]
     },
     "execution_count": 61,
     "metadata": {},
     "output_type": "execute_result"
    }
   ],
   "execution_count": 61
  },
  {
   "metadata": {
    "ExecuteTime": {
     "end_time": "2025-03-21T00:15:06.542312Z",
     "start_time": "2025-03-21T00:15:06.539764Z"
    }
   },
   "cell_type": "code",
   "source": "132712e+6 * 1000**3/ 5e10**2",
   "id": "3d8b910100db1606",
   "outputs": [
    {
     "data": {
      "text/plain": [
       "0.0530848"
      ]
     },
     "execution_count": 6,
     "metadata": {},
     "output_type": "execute_result"
    }
   ],
   "execution_count": 6
  },
  {
   "metadata": {
    "ExecuteTime": {
     "end_time": "2025-03-21T00:23:11.458178Z",
     "start_time": "2025-03-21T00:23:11.455391Z"
    }
   },
   "cell_type": "code",
   "source": [
    "G = 6.6743e-11\n",
    "M_sun = 1.98847e30\n",
    "AU = 1.496e11\n",
    "c = 3.0e8\n",
    "M_m = 0.33010e24\n",
    "R_m = 2.4405e6\n",
    "\n",
    "kappa = (G * M_sun**(-1) * R_m**2 * (c**2))\n",
    "print(kappa)\n"
   ],
   "id": "5b067ec1c5fa5faf",
   "outputs": [
    {
     "name": "stdout",
     "output_type": "stream",
     "text": [
      "1.799230538882533e-11\n"
     ]
    }
   ],
   "execution_count": 10
  },
  {
   "metadata": {
    "ExecuteTime": {
     "end_time": "2025-03-06T10:14:48.415615Z",
     "start_time": "2025-03-06T10:14:48.411469Z"
    }
   },
   "cell_type": "code",
   "source": [
    "test_ts = gnn_targets[:, 1].reshape(-1, 1)\n",
    "np.shape(test_ts)\n",
    "test_ts[:, :]"
   ],
   "id": "eb5f55502c5f7560",
   "outputs": [
    {
     "data": {
      "text/plain": [
       "array([[4.75612734e+10],\n",
       "       [4.75570080e+10],\n",
       "       [4.75527476e+10],\n",
       "       ...,\n",
       "       [4.60759974e+10],\n",
       "       [4.60769928e+10],\n",
       "       [4.60779948e+10]])"
      ]
     },
     "execution_count": 76,
     "metadata": {},
     "output_type": "execute_result"
    }
   ],
   "execution_count": 76
  },
  {
   "metadata": {
    "ExecuteTime": {
     "end_time": "2025-03-06T07:02:21.245080Z",
     "start_time": "2025-03-06T07:02:21.220314Z"
    }
   },
   "cell_type": "code",
   "source": "50.949 * -2.6043e18, -3.2037e9*4.1418e10",
   "id": "247210669fe081e5",
   "outputs": [
    {
     "data": {
      "text/plain": [
       "(-1.326864807e+20, -1.326908466e+20)"
      ]
     },
     "execution_count": 68,
     "metadata": {},
     "output_type": "execute_result"
    }
   ],
   "execution_count": 68
  },
  {
   "metadata": {
    "ExecuteTime": {
     "end_time": "2025-03-06T06:03:47.533825Z",
     "start_time": "2025-03-06T06:03:47.527068Z"
    }
   },
   "cell_type": "code",
   "source": "-test_a*1000 * (test_r*1000)**2",
   "id": "bbe4f0376b27cb3e",
   "outputs": [
    {
     "data": {
      "text/plain": [
       "1.3262153925844856e+20"
      ]
     },
     "execution_count": 64,
     "metadata": {},
     "output_type": "execute_result"
    }
   ],
   "execution_count": 64
  },
  {
   "metadata": {
    "ExecuteTime": {
     "end_time": "2025-03-05T22:49:58.973813Z",
     "start_time": "2025-03-05T22:49:57.489314Z"
    }
   },
   "cell_type": "code",
   "source": [
    "import dask.dataframe as dd\n",
    "import numpy as np\n",
    "\n",
    "data = dd.read_csv('horizons.csv', dtype=np.float64, blocksize=300e6)\n",
    "df = data.loc[200000:400000-1, :].compute()\n",
    "df.iloc[:, 1:] = df.iloc[:, 1:] * 1000\n",
    "df.iloc[:, 0] = df.iloc[:, 0] * 24 * 3600\n",
    "df['RG'] = np.sqrt(df['X'] ** 2 + df['Y'] ** 2 + df['Z'] ** 2)"
   ],
   "id": "162c48348aa30075",
   "outputs": [],
   "execution_count": 116
  },
  {
   "metadata": {
    "ExecuteTime": {
     "end_time": "2025-03-05T23:00:06.926738Z",
     "start_time": "2025-03-05T23:00:06.828599Z"
    }
   },
   "cell_type": "code",
   "source": [
    "from scipy.interpolate import UnivariateSpline\n",
    "\n",
    "t = df.iloc[:, 0].to_numpy()\n",
    "x, y, z = df.iloc[:, 1].to_numpy(), df.iloc[:, 2].to_numpy(), df.iloc[:, 3].to_numpy()\n",
    "vx, vy, vz = df.iloc[:, 4].to_numpy(), df.iloc[:, 5].to_numpy(), df.iloc[:, 6].to_numpy()\n",
    "\n",
    "splinex = UnivariateSpline(t, vx, k=3, s=0)\n",
    "spliney = UnivariateSpline(t, vy, k=3, s=0)\n",
    "splinez = UnivariateSpline(t, vz, k=3, s=0)\n",
    "\n",
    "ax = splinex.derivative(n=1)(t)\n",
    "ay = spliney.derivative(n=1)(t)\n",
    "az = splinez.derivative(n=1)(t)\n",
    "\n",
    "ax, ay, az"
   ],
   "id": "17825b88e80f083e",
   "outputs": [
    {
     "data": {
      "text/plain": [
       "(array([-0.04985251, -0.04985548, -0.04985841, ..., -0.04371006,\n",
       "        -0.04372607, -0.04374207]),\n",
       " array([-0.0134213 , -0.01345788, -0.01349448, ...,  0.00415322,\n",
       "         0.00412879,  0.00410435]),\n",
       " array([-0.00197487, -0.0019941 , -0.00201333, ...,  0.00676833,\n",
       "         0.00675695,  0.00674557]))"
      ]
     },
     "execution_count": 122,
     "metadata": {},
     "output_type": "execute_result"
    }
   ],
   "execution_count": 122
  },
  {
   "metadata": {
    "ExecuteTime": {
     "end_time": "2025-03-05T23:00:55.985694Z",
     "start_time": "2025-03-05T23:00:55.953516Z"
    }
   },
   "cell_type": "code",
   "source": [
    "rg = df['RG'].to_numpy()\n",
    "ar = (x*ax + y*ay + z*az)/rg\n",
    "ar"
   ],
   "id": "7538a4ce3f6fd4a4",
   "outputs": [
    {
     "data": {
      "text/plain": [
       "array([-0.05166531, -0.05167843, -0.05169154, ..., -0.04442554,\n",
       "       -0.04443729, -0.04444904])"
      ]
     },
     "execution_count": 124,
     "metadata": {},
     "output_type": "execute_result"
    }
   ],
   "execution_count": 124
  },
  {
   "metadata": {
    "ExecuteTime": {
     "end_time": "2025-03-05T23:01:31.174227Z",
     "start_time": "2025-03-05T23:01:31.164201Z"
    }
   },
   "cell_type": "code",
   "source": "np.min(ar), np.max(ar), np.median(ar)",
   "id": "bd22a158f3dfe73f",
   "outputs": [
    {
     "data": {
      "text/plain": [
       "(-0.0627118660171221, -0.027227117806946057, -0.036448700395266695)"
      ]
     },
     "execution_count": 125,
     "metadata": {},
     "output_type": "execute_result"
    }
   ],
   "execution_count": 125
  },
  {
   "metadata": {
    "ExecuteTime": {
     "end_time": "2025-03-05T21:26:43.669393Z",
     "start_time": "2025-03-05T21:26:43.666154Z"
    }
   },
   "cell_type": "code",
   "source": "ar[:10]*1000",
   "id": "992b38fa596e53c1",
   "outputs": [
    {
     "data": {
      "text/plain": [
       "array([0.00974468, 0.00975256, 0.00976044, 0.00976832, 0.00977619,\n",
       "       0.00978405, 0.00979191, 0.00979976, 0.0098076 , 0.00981544])"
      ]
     },
     "execution_count": 60,
     "metadata": {},
     "output_type": "execute_result"
    }
   ],
   "execution_count": 60
  },
  {
   "metadata": {
    "ExecuteTime": {
     "end_time": "2025-03-05T21:27:35.697142Z",
     "start_time": "2025-03-05T21:27:35.678203Z"
    }
   },
   "cell_type": "code",
   "source": "rg[:10]",
   "id": "e428a0f2863e3116",
   "outputs": [
    {
     "data": {
      "text/plain": [
       "array([47561273.38575633, 47557007.95485939, 47552747.57969094,\n",
       "       47548492.2643358 , 47544242.0128759 , 47539996.82939029,\n",
       "       47535756.71795504, 47531521.68264332, 47527291.72752535,\n",
       "       47523066.85666842])"
      ]
     },
     "execution_count": 61,
     "metadata": {},
     "output_type": "execute_result"
    }
   ],
   "execution_count": 61
  },
  {
   "metadata": {
    "ExecuteTime": {
     "end_time": "2025-02-27T04:57:49.646356Z",
     "start_time": "2025-02-27T04:57:49.639235Z"
    }
   },
   "cell_type": "code",
   "source": "132712e6 / (rg[0]**2)",
   "id": "186d97f05eaa6e38",
   "outputs": [
    {
     "data": {
      "text/plain": [
       "5.866826523025315e-05"
      ]
     },
     "execution_count": 38,
     "metadata": {},
     "output_type": "execute_result"
    }
   ],
   "execution_count": 38
  },
  {
   "metadata": {
    "ExecuteTime": {
     "end_time": "2025-03-02T06:30:31.983031Z",
     "start_time": "2025-03-02T06:30:26.642302Z"
    }
   },
   "cell_type": "code",
   "source": [
    "import dask.dataframe as dd\n",
    "import numpy as np\n",
    "from dask.diagnostics import ProgressBar\n",
    "\n",
    "df = dd.read_csv('horizons.csv', dtype=np.float64, blocksize=300e6)\n",
    "df['RG'] = np.sqrt(df['X'] ** 2 + df['Y'] ** 2 + df['Z'] ** 2)\n",
    "nrows = data.shape[0].compute()\n",
    "data = df[['JDTDB', 'RG']]\n",
    "data_trunc = data.head(int((30 / 60) * nrows), compute=False)\n",
    "with ProgressBar():\n",
    "    data_trunc.compute().to_csv('morbit_data.csv', index=False)"
   ],
   "id": "dec84c2be30ba967",
   "outputs": [
    {
     "name": "stdout",
     "output_type": "stream",
     "text": [
      "[########################################] | 100% Completed | 2.29 ss\n"
     ]
    }
   ],
   "execution_count": 43
  },
  {
   "metadata": {},
   "cell_type": "code",
   "source": [
    "import numpy as np\n",
    "np.load('ginputs.npy')"
   ],
   "id": "dbbf3e0414c74495",
   "outputs": [],
   "execution_count": null
  },
  {
   "metadata": {},
   "cell_type": "code",
   "source": "from utils import *",
   "id": "6406b67a3469a463",
   "outputs": [],
   "execution_count": null
  },
  {
   "metadata": {},
   "cell_type": "code",
   "source": "print_block(\"WITHOUT NUMPY\")",
   "id": "128d3ac0908bfbe3",
   "outputs": [],
   "execution_count": null
  },
  {
   "metadata": {},
   "cell_type": "code",
   "source": "new_parameter(\"SE_REDUCTION\", 2, hopt_type='categorical', hopt_range=[2, 4, 8, 16])",
   "id": "e3c5e63574904b31",
   "outputs": [],
   "execution_count": null
  },
  {
   "metadata": {},
   "cell_type": "code",
   "source": [
    "import pandas as pd\n",
    "import numpy as np"
   ],
   "id": "3abbf09ac970269b",
   "outputs": [],
   "execution_count": null
  },
  {
   "metadata": {},
   "cell_type": "code",
   "source": [
    "data = pd.read_csv('horizons.csv')\n",
    "data"
   ],
   "id": "eda40d5955d64e49",
   "outputs": [],
   "execution_count": null
  },
  {
   "metadata": {},
   "cell_type": "code",
   "source": [
    "data['RG'] = np.sqrt(data['X']**2 + data['Y']**2 + data['Z']**2)\n",
    "data['RG']"
   ],
   "id": "3d106c0619a6a44a",
   "outputs": [],
   "execution_count": null
  },
  {
   "metadata": {},
   "cell_type": "code",
   "source": "len(RG)",
   "id": "a008d19251b9c6f4",
   "outputs": [],
   "execution_count": null
  },
  {
   "metadata": {},
   "cell_type": "code",
   "source": [
    "yr = 1870\n",
    "print(f\"{yr:0>4}\")"
   ],
   "id": "76ebf9fd7b8ff343",
   "outputs": [],
   "execution_count": null
  },
  {
   "metadata": {},
   "cell_type": "code",
   "source": [
    "(\n",
    "        43 *   # as/cy\n",
    "        1/100 *    # 1cy/100yr\n",
    "        1/3600 *   # 1deg/3600as\n",
    "        np.pi/180 *    # pi rad / 180 deg\n",
    "        0.2408467/1 *  # yr/orbit\n",
    "        1   # rad/orbit\n",
    " ) * 100 # percent error per orbit from newtonian physics\n"
   ],
   "id": "583b6135cce369b8",
   "outputs": [],
   "execution_count": null
  },
  {
   "metadata": {},
   "cell_type": "code",
   "source": "from data_construction import *",
   "id": "b2e399f3b8ab49f6",
   "outputs": [],
   "execution_count": null
  },
  {
   "metadata": {},
   "cell_type": "code",
   "source": [
    "feats = load_np('ginputs.npy', nrows=config.NUM_SAMPLES, step=config.STEP)\n",
    "feats"
   ],
   "id": "1da2338b06f30969",
   "outputs": [],
   "execution_count": null
  },
  {
   "metadata": {},
   "cell_type": "code",
   "source": [
    "r = feats[0, 0]\n",
    "a = feats[0, 6]\n",
    "r, a"
   ],
   "id": "1273f0c3acaa44c2",
   "outputs": [],
   "execution_count": null
  },
  {
   "metadata": {},
   "cell_type": "code",
   "source": "-1.327e20/(r**2)",
   "id": "bdb3e923461c02f0",
   "outputs": [],
   "execution_count": null
  },
  {
   "metadata": {},
   "cell_type": "code",
   "source": [
    "x = feats[..., :3]\n",
    "x[..., 1] = np.random.uniform(0, np.pi, size=x.shape[0])\n",
    "x[..., 2] = np.random.uniform(-np.pi, np.pi, size=x.shape[0])\n",
    "x"
   ],
   "id": "950b15fbb6542273",
   "outputs": [],
   "execution_count": null
  },
  {
   "metadata": {},
   "cell_type": "code",
   "source": [
    "v = sixth_order_central_difference(x, 144)\n",
    "v"
   ],
   "id": "4554269bdb6a037a",
   "outputs": [],
   "execution_count": null
  },
  {
   "metadata": {},
   "cell_type": "code",
   "source": [
    "a = sixth_order_central_difference(v, 144)\n",
    "a"
   ],
   "id": "b3bbb2afb4141187",
   "outputs": [],
   "execution_count": null
  },
  {
   "metadata": {},
   "cell_type": "code",
   "source": "-1.327e20/(r**2)",
   "id": "b10475d554e981fc",
   "outputs": [],
   "execution_count": null
  },
  {
   "metadata": {},
   "cell_type": "code",
   "source": [
    "v = sixth_order_central_difference(x, 0.000001)\n",
    "v"
   ],
   "id": "e4f9ef65a29be85a",
   "outputs": [],
   "execution_count": null
  },
  {
   "metadata": {},
   "cell_type": "code",
   "source": [
    "a = sixth_order_central_difference(v, 0.1)\n",
    "a"
   ],
   "id": "eb9930dbc1481f7c",
   "outputs": [],
   "execution_count": null
  },
  {
   "metadata": {},
   "cell_type": "code",
   "source": "from scipy.spatial.transform import Rotation as R",
   "id": "28f517ac4b474367",
   "outputs": [],
   "execution_count": null
  },
  {
   "metadata": {},
   "cell_type": "code",
   "source": [
    "rot = R.random().as_matrix()\n",
    "rot"
   ],
   "id": "963f1d2d6338282a",
   "outputs": [],
   "execution_count": null
  },
  {
   "metadata": {},
   "cell_type": "code",
   "source": [
    "r = feats[:, :3]\n",
    "v = feats[:, 3:6]\n",
    "rr = apply_rotation(r, rot)\n",
    "rv = apply_rotation(v, rot)"
   ],
   "id": "eee2e4304a1b5362",
   "outputs": [],
   "execution_count": null
  },
  {
   "metadata": {},
   "cell_type": "code",
   "source": "np.einsum('ij,ji->j', rot, r)",
   "id": "6e21abccb511b49",
   "outputs": [],
   "execution_count": null
  },
  {
   "metadata": {},
   "cell_type": "code",
   "source": "rr",
   "id": "ed0a7267c9def6a4",
   "outputs": [],
   "execution_count": null
  },
  {
   "metadata": {},
   "cell_type": "code",
   "source": "rv",
   "id": "69b62e6961616f2a",
   "outputs": [],
   "execution_count": null
  },
  {
   "metadata": {},
   "cell_type": "code",
   "source": [
    "acc = sixth_order_central_difference(rv, 720)\n",
    "acc"
   ],
   "id": "d7f1e060a04f0694",
   "outputs": [],
   "execution_count": null
  },
  {
   "metadata": {},
   "cell_type": "code",
   "source": [
    "tot = np.empty((rr.shape[0], 9), dtype=np.float64)\n",
    "tot[:, :6] = cart_to_sph(rr, rv)\n",
    "tot[:, 6:] = cart_to_sph(rr, acc)[:, 3:]\n",
    "tot"
   ],
   "id": "3d3a4ffc67a91b1f",
   "outputs": [],
   "execution_count": null
  },
  {
   "metadata": {},
   "cell_type": "code",
   "source": [
    "rfs = randomly_rotate(feats)\n",
    "rfs"
   ],
   "id": "c4763b46df0ced14",
   "outputs": [],
   "execution_count": null
  },
  {
   "metadata": {},
   "cell_type": "code",
   "source": [
    "rv = rfs[:, 3:6]\n",
    "acc = sixth_order_central_difference(rv, 720)\n",
    "acc"
   ],
   "id": "294e6622d73bfb6c",
   "outputs": [],
   "execution_count": null
  },
  {
   "metadata": {},
   "cell_type": "code",
   "source": [
    "from scipy.spatial.transform import Rotation as R\n",
    "\n",
    "R.random().as_matrix()"
   ],
   "id": "a9efd090a10589ca",
   "outputs": [],
   "execution_count": null
  },
  {
   "metadata": {},
   "cell_type": "code",
   "source": [
    "d = {\n",
    "'steps_per_epoch': 45,\n",
    "'pct_start': 645,\n",
    "'final_div_factor': 13245,\n",
    "'three_phase': 41,\n",
    "}\n",
    "\n",
    "newd = {k: v for k,v in d.items()}\n",
    "newd"
   ],
   "id": "4b149469bd6adce2",
   "outputs": [],
   "execution_count": null
  },
  {
   "metadata": {},
   "cell_type": "code",
   "source": [
    "from importlib import reload\n",
    "import utils\n",
    "import config\n",
    "\n",
    "reload(utils)"
   ],
   "id": "f8a832b9974ab8c9",
   "outputs": [],
   "execution_count": null
  },
  {
   "metadata": {},
   "cell_type": "code",
   "source": "model = config.retrieve('model').load_from_checkpoint('testing.ckpt')",
   "id": "1a8b095cb3a01fc2",
   "outputs": [],
   "execution_count": null
  },
  {
   "metadata": {},
   "cell_type": "code",
   "source": "X, y = utils.gnn_test(model, ntrials=250000, suppress=True, SR=True)",
   "id": "46bd3c124646d38d",
   "outputs": [],
   "execution_count": null
  },
  {
   "metadata": {},
   "cell_type": "code",
   "source": "X",
   "id": "69923af28f216e8a",
   "outputs": [],
   "execution_count": null
  },
  {
   "metadata": {},
   "cell_type": "code",
   "source": "y",
   "id": "e46671dec8c44329",
   "outputs": [],
   "execution_count": null
  },
  {
   "metadata": {},
   "cell_type": "code",
   "source": [
    "d = {}\n",
    "d.update(test=1, red=1)\n",
    "d"
   ],
   "id": "64b337b1439b0345",
   "outputs": [],
   "execution_count": null
  },
  {
   "metadata": {},
   "cell_type": "code",
   "source": [
    "alpha = -0.0001\n",
    "if not 0 <= alpha <= 1:\n",
    "    print('y')\n",
    "    print(1-alpha)"
   ],
   "id": "c086d302f5d17971",
   "outputs": [],
   "execution_count": null
  },
  {
   "metadata": {},
   "cell_type": "code",
   "source": "1/(0.5+1e-1)",
   "id": "9358604c18cc73cd",
   "outputs": [],
   "execution_count": null
  },
  {
   "metadata": {},
   "cell_type": "code",
   "source": [
    "gnn_targets = np.load('gnn_targets.npy')\n",
    "gnn_targets"
   ],
   "id": "4a2c570c73745704",
   "outputs": [],
   "execution_count": null
  },
  {
   "metadata": {},
   "cell_type": "code",
   "source": [
    "import numpy as np\n",
    "from sklearn.preprocessing import StandardScaler\n",
    "import matplotlib.pyplot as plt\n",
    "from utils import *\n",
    "ginputs = np.load('ginputs.npy')\n",
    "ginputs"
   ],
   "id": "d6fafc3e5f2c0336",
   "outputs": [],
   "execution_count": null
  },
  {
   "metadata": {},
   "cell_type": "code",
   "source": "plt.plot(range(len(ginputs[:, 0])), ginputs[:, 6])",
   "id": "e403cb0da0888368",
   "outputs": [],
   "execution_count": null
  },
  {
   "metadata": {},
   "cell_type": "code",
   "source": "plt.plot(range(len(gnn_targets[:, 0])), gnn_targets[:, 6])",
   "id": "96ffa2ddf2c30b69",
   "outputs": [],
   "execution_count": null
  },
  {
   "metadata": {},
   "cell_type": "code",
   "source": [
    "X = ginputs[:250, -3:]\n",
    "scaler = StandardScaler()\n",
    "g_scaled = scaler.fit_transform(ginputs)\n",
    "\n",
    "padded = np.hstack((np.zeros((X.shape[0], 6)), X))\n",
    "scaled = scaler.transform(padded)[:, -3:]\n",
    "out_padded = np.hstack((np.zeros((X.shape[0], 6)), scaled))\n",
    "out = scaler.inverse_transform(out_padded)[:, -3:]\n",
    "\n",
    "calc_mae(out, X)"
   ],
   "id": "587415c448a799e8",
   "outputs": [],
   "execution_count": null
  },
  {
   "metadata": {},
   "cell_type": "code",
   "source": "attr",
   "id": "ca428bc53d36f8b3",
   "outputs": [],
   "execution_count": null
  },
  {
   "metadata": {},
   "cell_type": "code",
   "source": [
    "import numpy as np\n",
    "ls = []\n",
    "x=np.zeros((4,))\n",
    "for i in range(6):\n",
    "    ls.append(x)\n",
    "ls = np.array(ls)\n",
    "ls.shape"
   ],
   "id": "524395d9e678b6e8",
   "outputs": [],
   "execution_count": null
  },
  {
   "metadata": {},
   "cell_type": "code",
   "source": [
    "\n",
    "from data_construction import *"
   ],
   "id": "edd7afb79722989d",
   "outputs": [],
   "execution_count": null
  },
  {
   "metadata": {},
   "cell_type": "code",
   "source": [
    "scaler = joblib.load(config.SCALER_FILE)\n",
    "scaler['input_scaler']"
   ],
   "id": "c720c408f01274c6",
   "outputs": [],
   "execution_count": null
  },
  {
   "metadata": {},
   "cell_type": "code",
   "source": "print(\"After scaling mins:\",np.min(np.abs(g_scaled), axis=0))",
   "id": "4cbcd674555d06b8",
   "outputs": [],
   "execution_count": null
  },
  {
   "metadata": {},
   "cell_type": "code",
   "source": [
    "print(\"After scaling mins:\",np.min(g_scaled, axis=0))\n",
    "print(\"After scaling maxs:\",np.max(g_scaled, axis=0))"
   ],
   "id": "817226e6c4835967",
   "outputs": [],
   "execution_count": null
  },
  {
   "metadata": {},
   "cell_type": "code",
   "source": [
    "print(\"Before scaling mins:\",np.min(ginputs, axis=0))\n",
    "print(\"Before scaling maxs:\",np.max(ginputs, axis=0))"
   ],
   "id": "d837508d66a9c0ea",
   "outputs": [],
   "execution_count": null
  },
  {
   "metadata": {},
   "cell_type": "code",
   "source": "np.min(ginputs[:, -2]), np.max(ginputs[:, -2])",
   "id": "ba392d62c460329d",
   "outputs": [],
   "execution_count": null
  },
  {
   "metadata": {},
   "cell_type": "code",
   "source": [
    "plt.plot(range(len(ginputs[:, 0])), ginputs[:, -1])\n",
    "plt.plot(range(len(ginputs[:, 0])), ginputs[:, -2])"
   ],
   "id": "34f0015562de8441",
   "outputs": [],
   "execution_count": null
  },
  {
   "metadata": {},
   "cell_type": "code",
   "source": "['minimize']*3",
   "id": "b68abee476151604",
   "outputs": [],
   "execution_count": null
  },
  {
   "metadata": {},
   "cell_type": "code",
   "source": [
    "x = torch.tensor(ginputs[:, :3])\n",
    "y = torch.tensor(ginputs[:, 4].reshape(-1, 1))\n",
    "z = torch.tensor(ginputs[:, 5].reshape(-1, 1))\n",
    "\n",
    "a = torch.cat([x, y, z], dim=1)"
   ],
   "id": "666af9dbf5566bff",
   "outputs": [],
   "execution_count": null
  },
  {
   "metadata": {},
   "cell_type": "code",
   "source": [
    "from utils import print_block\n",
    "print_block(\"test\", \"testing\")"
   ],
   "id": "55da58218a66473a",
   "outputs": [],
   "execution_count": null
  },
  {
   "metadata": {},
   "cell_type": "code",
   "source": [
    "import numpy as np\n",
    "type(2**round(np.log2(np.sqrt(1250000))))"
   ],
   "id": "48ca59c2e501e95e",
   "outputs": [],
   "execution_count": null
  },
  {
   "metadata": {},
   "cell_type": "code",
   "source": "import numpy as np",
   "id": "af4df8fe9e49daf1",
   "outputs": [],
   "execution_count": null
  },
  {
   "metadata": {},
   "cell_type": "code",
   "source": "1250000/1024",
   "id": "f1b13b4a4858c7a",
   "outputs": [],
   "execution_count": null
  },
  {
   "metadata": {},
   "cell_type": "code",
   "source": [
    "import config\n",
    "from importlib import reload\n",
    "reload(config)\n",
    "@config.register('gnn')\n",
    "def test():\n",
    "    pass"
   ],
   "id": "c939371a9b103899",
   "outputs": [],
   "execution_count": null
  },
  {
   "metadata": {},
   "cell_type": "code",
   "source": "torch.exp(torch.tensor(24.5))",
   "id": "a34bdf74bf443d6c",
   "outputs": [],
   "execution_count": null
  },
  {
   "metadata": {},
   "cell_type": "code",
   "source": ".75 * len(gnn_targets)",
   "id": "2d56b960f5068e4",
   "outputs": [],
   "execution_count": null
  },
  {
   "metadata": {},
   "cell_type": "code",
   "source": "plt.plot(range(len(interp_data)), interp_data[:, 1])",
   "id": "d422e18f922b65c6",
   "outputs": [],
   "execution_count": null
  },
  {
   "metadata": {},
   "cell_type": "code",
   "source": "interp_data.shape",
   "id": "9773cd7e248ba25e",
   "outputs": [],
   "execution_count": null
  },
  {
   "metadata": {},
   "cell_type": "code",
   "source": "(np.array([4, 5]).reshape(1, -1)).shape",
   "id": "76fcae86da789486",
   "outputs": [],
   "execution_count": null
  },
  {
   "metadata": {},
   "cell_type": "code",
   "source": [
    "y = 1/interp_data[:, 0]\n",
    "y"
   ],
   "id": "db048528f0a466c7",
   "outputs": [],
   "execution_count": null
  },
  {
   "metadata": {},
   "cell_type": "code",
   "source": "len((0,1))",
   "id": "a20d8ee75f52d371",
   "outputs": [],
   "execution_count": null
  },
  {
   "metadata": {},
   "cell_type": "code",
   "source": "np.min(y), np.max(y)",
   "id": "dc17aebb49974faf",
   "outputs": [],
   "execution_count": null
  },
  {
   "metadata": {},
   "cell_type": "code",
   "source": [
    "dy = sixth_order_central_difference(y, 700)\n",
    "dy"
   ],
   "id": "d0f2ce93e726b681",
   "outputs": [],
   "execution_count": null
  },
  {
   "metadata": {},
   "cell_type": "code",
   "source": "np.mean(dy)",
   "id": "29f18de339278811",
   "outputs": [],
   "execution_count": null
  },
  {
   "metadata": {},
   "cell_type": "code",
   "source": "np.min(dy), np.max(dy)",
   "id": "eb0ab6183dd8ee93",
   "outputs": [],
   "execution_count": null
  },
  {
   "metadata": {},
   "cell_type": "code",
   "source": "len(dy), len(interp_data)",
   "id": "3b83f8484dc413e2",
   "outputs": [],
   "execution_count": null
  },
  {
   "metadata": {},
   "cell_type": "code",
   "source": "",
   "id": "b119d17e955a2893",
   "outputs": [],
   "execution_count": null
  },
  {
   "metadata": {},
   "cell_type": "code",
   "source": [
    "import matplotlib.pyplot as plt\n",
    "plt.plot(range(len(interp_data)), dy)"
   ],
   "id": "a16dabf0b98a5115",
   "outputs": [],
   "execution_count": null
  },
  {
   "metadata": {},
   "cell_type": "code",
   "source": "np.mean(1/sphinputs[:, 1])",
   "id": "d6df2c0881b045ac",
   "outputs": [],
   "execution_count": null
  },
  {
   "metadata": {},
   "cell_type": "code",
   "source": [
    "sphinputs = load_np('sphinputs.npy')\n",
    "sphinputs"
   ],
   "id": "ef20ca5e86162ebb",
   "outputs": [],
   "execution_count": null
  },
  {
   "metadata": {},
   "cell_type": "code",
   "source": [
    "L_t = mean_L_vector(spherical=sphinputs[:, 1:], return_list=True)\n",
    "plt.plot(sphinputs[:, 0], L_t)"
   ],
   "id": "d011bfea3b74f2cb",
   "outputs": [],
   "execution_count": null
  },
  {
   "metadata": {},
   "cell_type": "code",
   "source": "L_t",
   "id": "6b8b66df627ab88b",
   "outputs": [],
   "execution_count": null
  },
  {
   "metadata": {},
   "cell_type": "code",
   "source": "slc = slice(10000000, 20000000)",
   "id": "571a06eeee44bb18",
   "outputs": [],
   "execution_count": null
  },
  {
   "metadata": {},
   "cell_type": "code",
   "source": [
    "phi_data = sphinputs[slc, 3]\n",
    "R_data = sphinputs[slc, 1]  \n",
    "p = 55463207358.96916\n",
    "e = 0.2055194223830019"
   ],
   "id": "6810706f4240befa",
   "outputs": [],
   "execution_count": null
  },
  {
   "metadata": {},
   "cell_type": "code",
   "source": [
    "from lmfit import Model, Parameters\n",
    "import numpy as np\n",
    "\n",
    "def orbital_model(phi, p_intercept, p_slope, e_intercept, e_slope, alpha):\n",
    "    p = p_intercept + p_slope * phi\n",
    "    e = e_intercept + e_slope * phi\n",
    "    return p / (1 - e * np.cos(alpha * phi))\n",
    "\n",
    "model = Model(orbital_model)\n",
    "\n",
    "params = Parameters()\n",
    "params.add('p_intercept', value=55463207358.96916, min=55463207358.96916 - 5e9, max=55463207358.96916 + 5e9)\n",
    "params.add('p_slope', value=3e9)\n",
    "params.add('e_intercept', value=0.2055194223830019, min=0.19, max=0.21)\n",
    "params.add('e_slope', value=0.00001)\n",
    "params.add('alpha', value=0.9999, min=0.99, max=1.0)\n",
    "\n",
    "result = model.fit(R_data, params, phi=phi_data)\n",
    "\n",
    "print(result.fit_report())"
   ],
   "id": "a8be6d2da061d6d1",
   "outputs": [],
   "execution_count": null
  },
  {
   "metadata": {},
   "cell_type": "code",
   "source": [
    "from deap import base, creator, tools, algorithms\n",
    "import random\n",
    "\n",
    "# Set up the DEAP framework for optimization\n",
    "creator.create(\"FitnessMin\", base.Fitness, weights=(-1.0,))\n",
    "creator.create(\"Individual\", list, fitness=creator.FitnessMin)\n",
    "\n",
    "toolbox = base.Toolbox()\n",
    "toolbox.register(\"attr_float\", random.uniform, 0.99, 1.0)\n",
    "toolbox.register(\"individual\", tools.initRepeat, creator.Individual, toolbox.attr_float, 1)\n",
    "toolbox.register(\"population\", tools.initRepeat, list, toolbox.individual)\n",
    "\n",
    "def evalAlpha(individual):\n",
    "    alpha = individual[0]\n",
    "    return (float(loss_function(alpha, phi_data, R_data)),)\n",
    "\n",
    "toolbox.register(\"evaluate\", evalAlpha)\n",
    "toolbox.register(\"mate\", tools.cxBlend, alpha=0.5)\n",
    "toolbox.register(\"mutate\", tools.mutGaussian, mu=0, sigma=0.01, indpb=0.2)\n",
    "toolbox.register(\"select\", tools.selTournament, tournsize=3)\n",
    "\n",
    "population = toolbox.population(n=50)\n",
    "algorithms.eaSimple(population, toolbox, cxpb=0.5, mutpb=0.2, ngen=40, verbose=False)\n",
    "\n",
    "best_individual = tools.selBest(population, 1)[0]\n",
    "best_alpha = best_individual[0]\n",
    "print(f\"Best alpha: {best_alpha}\")"
   ],
   "id": "7d0ee9c1972064eb",
   "outputs": [],
   "execution_count": null
  },
  {
   "metadata": {},
   "cell_type": "code",
   "source": "jnp.cos(0.9999999134736005) - jnp.cos(0.99000002215574)",
   "id": "42724a8ebf280040",
   "outputs": [],
   "execution_count": null
  },
  {
   "metadata": {},
   "cell_type": "code",
   "source": "alpha % (2*np.pi) / (2*np.pi)",
   "id": "abb81eeebe223380",
   "outputs": [],
   "execution_count": null
  },
  {
   "metadata": {},
   "cell_type": "code",
   "source": [
    "xp = 46.56 / (180 / np.pi * 3600 * 100 / 0.2408467)\n",
    "xp"
   ],
   "id": "5da241b9adc9d4b7",
   "outputs": [],
   "execution_count": null
  },
  {
   "metadata": {},
   "cell_type": "code",
   "source": [
    "actual_alpha = 1/ (xp / (2*np.pi) + 1)\n",
    "actual_alpha"
   ],
   "id": "918848830e64111e",
   "outputs": [],
   "execution_count": null
  },
  {
   "metadata": {},
   "cell_type": "code",
   "source": "2*np.pi/alpha_opt - 2* np.pi",
   "id": "95422d92dc5ac434",
   "outputs": [],
   "execution_count": null
  },
  {
   "metadata": {},
   "cell_type": "code",
   "source": "(2*np.pi*(1/alpha_opt -1)) ",
   "id": "23b57dcafb2ac4f4",
   "outputs": [],
   "execution_count": null
  },
  {
   "metadata": {},
   "cell_type": "code",
   "source": [
    "import jax.numpy as jnp\n",
    "from jax import jit\n",
    "\n",
    "@jit\n",
    "def sixth_order_central_difference_variable_time(x, t):\n",
    "    \"\"\"\n",
    "    Sixth order central difference with variable time steps.\n",
    "    :param x: jnp.array of shape (N,): 1D data array.\n",
    "    :param t: jnp.array of shape (N,): 1D time array.\n",
    "    :return: jnp.array of shape (N,): dxdt to sixth order accuracy.\n",
    "    \"\"\"\n",
    "    N = x.shape[0]\n",
    "    \n",
    "    if N < 7:\n",
    "        raise ValueError(\"Input array must have at least 7 points for sixth-order central difference.\")\n",
    "    \n",
    "    dxdt = jnp.zeros_like(x)\n",
    "\n",
    "    # Calculate forward and backward time differences\n",
    "    dt_forward = t[1:] - t[:-1]  # Forward difference (length N-1)\n",
    "    dt_backward = jnp.concatenate([jnp.array([dt_forward[0]]), dt_forward[:-1]])  # Backward difference (shifted forward difference)\n",
    "\n",
    "    # Central difference for interior points (3 to N-4)\n",
    "    central_coeff = 1 / (60 * (dt_forward[3:N-3] + dt_backward[3:N-3]))\n",
    "    stencil = (\n",
    "        -x[0:N-6] / dt_backward[0:N-6] +\n",
    "        9 * x[1:N-5] / dt_backward[1:N-5] -\n",
    "        45 * x[2:N-4] / dt_backward[2:N-4] +\n",
    "        45 * x[4:N-2] / dt_forward[3:N-3] -\n",
    "        9 * x[5:N-1] / dt_forward[4:N-2] +\n",
    "        x[6:N] / dt_forward[5:N-1]\n",
    "    )\n",
    "    dxdt = dxdt.at[3:N-3].set(central_coeff * stencil)\n",
    "\n",
    "    # Boundary stencils for the first three points\n",
    "    forward_coeff_first = 1 / (60 * dt_forward[:7])\n",
    "    stencil_first = jnp.array([-147, 360, -450, 400, -225, 72, -10])\n",
    "    dxdt = dxdt.at[0].set(jnp.dot(forward_coeff_first, stencil_first * x[:7]))\n",
    "\n",
    "    forward_coeff_second = 1 / (60 * dt_forward[1:7])\n",
    "    stencil_second = jnp.array([-10, -77, 150, -100, 50, -15])\n",
    "    dxdt = dxdt.at[1].set(jnp.dot(forward_coeff_second, stencil_second * x[1:7]))\n",
    "\n",
    "    forward_coeff_third = 1 / (60 * dt_forward[2:8])\n",
    "    stencil_third = jnp.array([2, -24, -35, 80, -30, 8])\n",
    "    dxdt = dxdt.at[2].set(jnp.dot(forward_coeff_third, stencil_third * x[2:8]))\n",
    "\n",
    "    # Boundary stencils for the last three points\n",
    "    backward_coeff_third_last = 1 / (60 * dt_backward[-7:])\n",
    "    stencil_third_last = jnp.array([1, -8, 30, -80, 35, 24, -2])\n",
    "    dxdt = dxdt.at[-3].set(jnp.dot(backward_coeff_third_last, stencil_third_last * x[-7:]))\n",
    "\n",
    "    backward_coeff_second_last = 1 / (60 * dt_backward[-6:])\n",
    "    stencil_second_last = jnp.array([-2, 15, -50, 100, -150, 77])\n",
    "    dxdt = dxdt.at[-2].set(jnp.dot(backward_coeff_second_last, stencil_second_last * x[-6:]))\n",
    "\n",
    "    backward_coeff_last = 1 / (60 * dt_backward[-7:])\n",
    "    stencil_last = jnp.array([10, -72, 225, -400, 450, -360, 147])\n",
    "    dxdt = dxdt.at[-1].set(jnp.dot(backward_coeff_last, stencil_last * x[-7:]))\n",
    "\n",
    "    return dxdt"
   ],
   "id": "f67755d794757e94",
   "outputs": [],
   "execution_count": null
  },
  {
   "metadata": {},
   "cell_type": "code",
   "source": [
    "dts = jnp.diff(t, axis=0)\n",
    "dt = jnp.mean(dts).item()\n",
    "dt"
   ],
   "id": "69240510e7de6126",
   "outputs": [],
   "execution_count": null
  },
  {
   "metadata": {},
   "cell_type": "code",
   "source": [
    "t = sphinputs[:, 0]\n",
    "y = jnp.sin(t)\n",
    "ay = jnp.cos(t)\n",
    "dydt = sixth_order_central_difference(y, dt)\n",
    "ddydt = sixth_order_central_difference_variable_time(y, t)\n",
    "\n",
    "print(f\"mape for dt: {calc_mape(dydt, ay)}\")\n",
    "print(f\"mape for  t: {calc_mape(ddydt, ay)}\")"
   ],
   "id": "200326e69006b3b6",
   "outputs": [],
   "execution_count": null
  },
  {
   "metadata": {},
   "cell_type": "code",
   "source": [
    "@jit\n",
    "def theta_variance(new_z_axis, positions):\n",
    "    \"\"\"\n",
    "    Calculates the variance in theta after rotating the current z axis to new z axis\n",
    "    :param new_z_axis: jnp.array of shape (3,)\n",
    "    :param positions: jnp.array of shape (~, 3)\n",
    "    :return: jnp.array of shape (~,)\n",
    "    \"\"\"\n",
    "    R = alignment_matrix(jnp.array([0, 0, 1]), new_z_axis)\n",
    "    rotated_positions = apply_rotation(positions, R)\n",
    "    x, y, z = rotated_positions[:, 0], rotated_positions[:, 1], rotated_positions[:, 2]\n",
    "    r = jnp.sqrt(x**2 + y**2 + z**2)\n",
    "    theta = jnp.arccos(z / r)\n",
    "    return jnp.var(theta)\n",
    "\n",
    "\n",
    "def minimize_theta_variance(positions):\n",
    "    \"\"\"\n",
    "    Finds optimal z axis by minimizing theta variance using BFGS\n",
    "    :param positions: jnp.array of shape (~, 3)\n",
    "    :return: jnp.array of shape (3,)\n",
    "    \"\"\"\n",
    "    initial_guess = jnp.array([-0.09, 0.08, 1])  # close to current z axis\n",
    "    result = minimize(lambda vec: theta_variance(vec, positions), initial_guess, method='BFGS')\n",
    "    return result.x"
   ],
   "id": "13626fc8659b888f",
   "outputs": [],
   "execution_count": null
  },
  {
   "metadata": {},
   "cell_type": "code",
   "source": [
    "r = sph[:, 0]\n",
    "rbar=jnp.mean(r)\n",
    "y = 1/rbar\n",
    "L_t = mean_L_vector(spherical=sph, return_list=True)\n",
    "F_r = 2e+22\n",
    "m = 0.3301e24"
   ],
   "id": "9a0ec1a3d74d3ff0",
   "outputs": [],
   "execution_count": null
  },
  {
   "metadata": {},
   "cell_type": "code",
   "source": [
    "force_terms = calculate_force(r, v)\n",
    "force_terms"
   ],
   "id": "8ed6706d864b5fc6",
   "outputs": [],
   "execution_count": null
  },
  {
   "metadata": {},
   "cell_type": "code",
   "source": [
    "def calculate_force(r):\n",
    "    \"\"\"\n",
    "    Newton force\n",
    "    :param r: array-like, radius in m\n",
    "    :return: Radial force component\n",
    "    \"\"\"\n",
    "    # Define constants\n",
    "    G = 6.6743e-11  # Gravitational constant in m^3 kg^-1 s^-2\n",
    "    M_s = 1.988409870698051e30  # Mass of sun in kg\n",
    "    m = 0.3301e24  # Mass of mercury in kg\n",
    "\n",
    "    return -G * M_s * m / (r ** 2)"
   ],
   "id": "767ec6046acc8d76",
   "outputs": [],
   "execution_count": null
  },
  {
   "metadata": {},
   "cell_type": "code",
   "source": [
    "def radial_ode(y, phi, xp, x_fp, v_fp, model):\n",
    "    m = 0.33010e24  # kg, Mercury fact sheet: NASA\n",
    "    M_s = M_sun.value   # kg\n",
    "    y1, y2 = y\n",
    "    \n",
    "    r = 1 / y1\n",
    "    v_phi = model\n",
    "    \n",
    "    pos = jnp.array([r, 0, 0])\n",
    "    radial_force = calculate_force(M_s=M_s, m=m, x=pos, v=vel)[0]\n",
    "    L = jnp.cross(pos, vel)\n",
    "    L_mag = jnp.linalg.norm(L)\n",
    "    dy2dphi = - radial_force / (m * y1**2 * L_mag**2) - y1\n",
    "    \n",
    "    return jnp.array([y2, dy2dphi])\n",
    "\n",
    "@jit\n",
    "def solve_eom(x, v, model, rtol=None, atol=None):\n",
    "    phi = jnp.unwrap(x[:, 1])\n",
    "    \n",
    "    y0 = jnp.array([1 / jnp.sqrt(x[4, 0]**2 + x[4, 2]**2), 2.75e-12])\n",
    "    \n",
    "    R_vals = jnp.sqrt(x[:, 0]**2 + x[:, 2]**2)\n",
    "    x_fp = x[:, 2]\n",
    "    v_fp = v\n",
    "    \n",
    "    R = odeint(lambda y, phi: radial_ode(y, phi, R_vals, x_fp, v_fp, model), y0, phi, rtol=1e-9, atol=7.785e-9)\n",
    "    \n",
    "    return R"
   ],
   "id": "1725bfd95ca26d89",
   "outputs": [],
   "execution_count": null
  },
  {
   "metadata": {},
   "cell_type": "code",
   "source": [
    "from hyperopt import fmin, tpe, hp, STATUS_OK, Trials\n",
    "import jax.numpy as jnp\n",
    "\n",
    "R_t = jnp.sqrt(x_cyl[:, 0]**2 + x_cyl[:, 2]**2)\n",
    "\n",
    "# Objective function for hyperopt\n",
    "def objective(params):\n",
    "    rtol, atol = params['rtol'], params['atol']\n",
    "    \n",
    "    R = solve_eom(x_cyl, v_cyl, rtol, atol)\n",
    "    R_g = 1 / R[:, 0]\n",
    "    \n",
    "    # Calculate MAPE as the objective to minimize\n",
    "    mape = calc_mape(R_g, R_t).item()\n",
    "    \n",
    "    return {'loss': mape, 'status': STATUS_OK}\n",
    "\n",
    "# Define the search space\n",
    "space = {\n",
    "    'rtol': hp.loguniform('rtol', -20, 10),  # rtol in the range of 1e-20 to 1e-1\n",
    "    'atol': hp.loguniform('atol', -20, 10)  # atol in the range of 1e-20 to 1e-1\n",
    "}\n",
    "\n",
    "# Use hyperopt to find the best parameters\n",
    "trials = Trials()\n",
    "best = fmin(fn=objective,\n",
    "            space=space,\n",
    "            algo=tpe.suggest,\n",
    "            max_evals=300,  # Number of iterations\n",
    "            trials=trials)\n",
    "\n",
    "print(\"Best parameters found:\", best)"
   ],
   "id": "af99595f265f3d33",
   "outputs": [],
   "execution_count": null
  },
  {
   "metadata": {},
   "cell_type": "code",
   "source": "",
   "id": "329ad185c0d25de7",
   "outputs": [],
   "execution_count": null
  }
 ],
 "metadata": {
  "kernelspec": {
   "display_name": "Python 3",
   "language": "python",
   "name": "python3"
  },
  "language_info": {
   "codemirror_mode": {
    "name": "ipython",
    "version": 2
   },
   "file_extension": ".py",
   "mimetype": "text/x-python",
   "name": "python",
   "nbconvert_exporter": "python",
   "pygments_lexer": "ipython2",
   "version": "2.7.6"
  }
 },
 "nbformat": 4,
 "nbformat_minor": 5
}
